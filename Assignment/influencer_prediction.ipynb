{
 "cells": [
  {
   "cell_type": "code",
   "execution_count": 1,
   "id": "b8c971b2",
   "metadata": {},
   "outputs": [],
   "source": [
    "import pandas as pd\n",
    "import numpy as np\n",
    "import matplotlib.pyplot as plt\n",
    "import seaborn as sns\n",
    "from scipy.stats import boxcox\n",
    "pd.set_option(\"display.max_columns\", 999)\n",
    "from sklearn.preprocessing import StandardScaler\n",
    "from sklearn.linear_model import LogisticRegression\n",
    "from sklearn.metrics import confusion_matrix, classification_report, accuracy_score, roc_curve, auc, ConfusionMatrixDisplay\n",
    "from sklearn.model_selection import GridSearchCV"
   ]
  },
  {
   "cell_type": "markdown",
   "id": "f0ca273c",
   "metadata": {},
   "source": [
    "## Data load and exploration"
   ]
  },
  {
   "cell_type": "code",
   "execution_count": 2,
   "id": "35794a12",
   "metadata": {},
   "outputs": [],
   "source": [
    "# https://www.kaggle.com/c/predict-who-is-more-influential-in-a-social-network/overview\n",
    "train = pd.read_csv('predict-who-is-more-influential-in-a-social-network/train.csv')\n",
    "test = pd.read_csv('predict-who-is-more-influential-in-a-social-network/test.csv')"
   ]
  },
  {
   "cell_type": "code",
   "execution_count": 3,
   "id": "f707e29a",
   "metadata": {},
   "outputs": [
    {
     "name": "stdout",
     "output_type": "stream",
     "text": [
      "(5500, 23)\n",
      "(5952, 22)\n"
     ]
    }
   ],
   "source": [
    "print(train.shape)\n",
    "print(test.shape)"
   ]
  },
  {
   "cell_type": "code",
   "execution_count": 4,
   "id": "bafccc49",
   "metadata": {},
   "outputs": [
    {
     "data": {
      "text/html": [
       "<div>\n",
       "<style scoped>\n",
       "    .dataframe tbody tr th:only-of-type {\n",
       "        vertical-align: middle;\n",
       "    }\n",
       "\n",
       "    .dataframe tbody tr th {\n",
       "        vertical-align: top;\n",
       "    }\n",
       "\n",
       "    .dataframe thead th {\n",
       "        text-align: right;\n",
       "    }\n",
       "</style>\n",
       "<table border=\"1\" class=\"dataframe\">\n",
       "  <thead>\n",
       "    <tr style=\"text-align: right;\">\n",
       "      <th></th>\n",
       "      <th>Choice</th>\n",
       "      <th>A_follower_count</th>\n",
       "      <th>A_following_count</th>\n",
       "      <th>A_listed_count</th>\n",
       "      <th>A_mentions_received</th>\n",
       "      <th>A_retweets_received</th>\n",
       "      <th>A_mentions_sent</th>\n",
       "      <th>A_retweets_sent</th>\n",
       "      <th>A_posts</th>\n",
       "      <th>A_network_feature_1</th>\n",
       "      <th>A_network_feature_2</th>\n",
       "      <th>A_network_feature_3</th>\n",
       "      <th>B_follower_count</th>\n",
       "      <th>B_following_count</th>\n",
       "      <th>B_listed_count</th>\n",
       "      <th>B_mentions_received</th>\n",
       "      <th>B_retweets_received</th>\n",
       "      <th>B_mentions_sent</th>\n",
       "      <th>B_retweets_sent</th>\n",
       "      <th>B_posts</th>\n",
       "      <th>B_network_feature_1</th>\n",
       "      <th>B_network_feature_2</th>\n",
       "      <th>B_network_feature_3</th>\n",
       "    </tr>\n",
       "  </thead>\n",
       "  <tbody>\n",
       "    <tr>\n",
       "      <th>0</th>\n",
       "      <td>0</td>\n",
       "      <td>228</td>\n",
       "      <td>302</td>\n",
       "      <td>3</td>\n",
       "      <td>0.583979</td>\n",
       "      <td>0.100503</td>\n",
       "      <td>0.100503</td>\n",
       "      <td>0.100503</td>\n",
       "      <td>0.362150</td>\n",
       "      <td>2</td>\n",
       "      <td>166.500000</td>\n",
       "      <td>11355.000000</td>\n",
       "      <td>34463</td>\n",
       "      <td>29808</td>\n",
       "      <td>1689</td>\n",
       "      <td>15.430498</td>\n",
       "      <td>3.984029</td>\n",
       "      <td>8.204331</td>\n",
       "      <td>0.332423</td>\n",
       "      <td>6.988815</td>\n",
       "      <td>66</td>\n",
       "      <td>75.530303</td>\n",
       "      <td>1916.893939</td>\n",
       "    </tr>\n",
       "    <tr>\n",
       "      <th>1</th>\n",
       "      <td>0</td>\n",
       "      <td>21591</td>\n",
       "      <td>1179</td>\n",
       "      <td>228</td>\n",
       "      <td>90.456506</td>\n",
       "      <td>25.798292</td>\n",
       "      <td>5.709329</td>\n",
       "      <td>1.111159</td>\n",
       "      <td>5.176620</td>\n",
       "      <td>369</td>\n",
       "      <td>18.442971</td>\n",
       "      <td>1330.366048</td>\n",
       "      <td>39262</td>\n",
       "      <td>848</td>\n",
       "      <td>1610</td>\n",
       "      <td>40.495021</td>\n",
       "      <td>8.943607</td>\n",
       "      <td>3.227677</td>\n",
       "      <td>0.564343</td>\n",
       "      <td>1.070321</td>\n",
       "      <td>163</td>\n",
       "      <td>132.030675</td>\n",
       "      <td>2931.515337</td>\n",
       "    </tr>\n",
       "    <tr>\n",
       "      <th>2</th>\n",
       "      <td>0</td>\n",
       "      <td>7310</td>\n",
       "      <td>1215</td>\n",
       "      <td>101</td>\n",
       "      <td>25.503644</td>\n",
       "      <td>9.556347</td>\n",
       "      <td>5.361519</td>\n",
       "      <td>0.591206</td>\n",
       "      <td>3.589718</td>\n",
       "      <td>95</td>\n",
       "      <td>68.927835</td>\n",
       "      <td>5999.896907</td>\n",
       "      <td>3622</td>\n",
       "      <td>482</td>\n",
       "      <td>206</td>\n",
       "      <td>0.734696</td>\n",
       "      <td>0.354379</td>\n",
       "      <td>0.603202</td>\n",
       "      <td>0.100503</td>\n",
       "      <td>0.603202</td>\n",
       "      <td>3</td>\n",
       "      <td>10.333333</td>\n",
       "      <td>277.333333</td>\n",
       "    </tr>\n",
       "    <tr>\n",
       "      <th>3</th>\n",
       "      <td>0</td>\n",
       "      <td>20</td>\n",
       "      <td>7</td>\n",
       "      <td>2</td>\n",
       "      <td>7.690824</td>\n",
       "      <td>0.277306</td>\n",
       "      <td>1.331508</td>\n",
       "      <td>0.100503</td>\n",
       "      <td>2.830627</td>\n",
       "      <td>6</td>\n",
       "      <td>2.000000</td>\n",
       "      <td>96.166667</td>\n",
       "      <td>19562</td>\n",
       "      <td>17637</td>\n",
       "      <td>278</td>\n",
       "      <td>572.874856</td>\n",
       "      <td>390.293681</td>\n",
       "      <td>27.552040</td>\n",
       "      <td>7.167557</td>\n",
       "      <td>32.101906</td>\n",
       "      <td>1762</td>\n",
       "      <td>23.469296</td>\n",
       "      <td>1395.845634</td>\n",
       "    </tr>\n",
       "    <tr>\n",
       "      <th>4</th>\n",
       "      <td>1</td>\n",
       "      <td>45589</td>\n",
       "      <td>862</td>\n",
       "      <td>2641</td>\n",
       "      <td>148.854279</td>\n",
       "      <td>36.998884</td>\n",
       "      <td>27.881768</td>\n",
       "      <td>3.333492</td>\n",
       "      <td>23.861282</td>\n",
       "      <td>551</td>\n",
       "      <td>127.404293</td>\n",
       "      <td>2833.847943</td>\n",
       "      <td>7554</td>\n",
       "      <td>1711</td>\n",
       "      <td>181</td>\n",
       "      <td>21.601866</td>\n",
       "      <td>3.581661</td>\n",
       "      <td>6.764657</td>\n",
       "      <td>1.119727</td>\n",
       "      <td>4.563246</td>\n",
       "      <td>85</td>\n",
       "      <td>48.500000</td>\n",
       "      <td>1993.627907</td>\n",
       "    </tr>\n",
       "  </tbody>\n",
       "</table>\n",
       "</div>"
      ],
      "text/plain": [
       "   Choice  A_follower_count  A_following_count  A_listed_count  \\\n",
       "0       0               228                302               3   \n",
       "1       0             21591               1179             228   \n",
       "2       0              7310               1215             101   \n",
       "3       0                20                  7               2   \n",
       "4       1             45589                862            2641   \n",
       "\n",
       "   A_mentions_received  A_retweets_received  A_mentions_sent  A_retweets_sent  \\\n",
       "0             0.583979             0.100503         0.100503         0.100503   \n",
       "1            90.456506            25.798292         5.709329         1.111159   \n",
       "2            25.503644             9.556347         5.361519         0.591206   \n",
       "3             7.690824             0.277306         1.331508         0.100503   \n",
       "4           148.854279            36.998884        27.881768         3.333492   \n",
       "\n",
       "     A_posts  A_network_feature_1  A_network_feature_2  A_network_feature_3  \\\n",
       "0   0.362150                    2           166.500000         11355.000000   \n",
       "1   5.176620                  369            18.442971          1330.366048   \n",
       "2   3.589718                   95            68.927835          5999.896907   \n",
       "3   2.830627                    6             2.000000            96.166667   \n",
       "4  23.861282                  551           127.404293          2833.847943   \n",
       "\n",
       "   B_follower_count  B_following_count  B_listed_count  B_mentions_received  \\\n",
       "0             34463              29808            1689            15.430498   \n",
       "1             39262                848            1610            40.495021   \n",
       "2              3622                482             206             0.734696   \n",
       "3             19562              17637             278           572.874856   \n",
       "4              7554               1711             181            21.601866   \n",
       "\n",
       "   B_retweets_received  B_mentions_sent  B_retweets_sent    B_posts  \\\n",
       "0             3.984029         8.204331         0.332423   6.988815   \n",
       "1             8.943607         3.227677         0.564343   1.070321   \n",
       "2             0.354379         0.603202         0.100503   0.603202   \n",
       "3           390.293681        27.552040         7.167557  32.101906   \n",
       "4             3.581661         6.764657         1.119727   4.563246   \n",
       "\n",
       "   B_network_feature_1  B_network_feature_2  B_network_feature_3  \n",
       "0                   66            75.530303          1916.893939  \n",
       "1                  163           132.030675          2931.515337  \n",
       "2                    3            10.333333           277.333333  \n",
       "3                 1762            23.469296          1395.845634  \n",
       "4                   85            48.500000          1993.627907  "
      ]
     },
     "execution_count": 4,
     "metadata": {},
     "output_type": "execute_result"
    }
   ],
   "source": [
    "train.head()"
   ]
  },
  {
   "cell_type": "code",
   "execution_count": 5,
   "id": "61d8375e",
   "metadata": {},
   "outputs": [
    {
     "data": {
      "text/plain": [
       "['follower_count',\n",
       " 'mentions_received',\n",
       " 'retweets_sent',\n",
       " 'network_feature_1',\n",
       " 'listed_count',\n",
       " 'network_feature_2',\n",
       " 'retweets_received',\n",
       " 'posts',\n",
       " 'network_feature_3',\n",
       " 'following_count',\n",
       " 'mentions_sent']"
      ]
     },
     "execution_count": 5,
     "metadata": {},
     "output_type": "execute_result"
    }
   ],
   "source": [
    "# getting list of attributes\n",
    "attributes = list(set([s[2:] for s in train.columns[1:]]))\n",
    "attributes"
   ]
  },
  {
   "cell_type": "code",
   "execution_count": 6,
   "id": "39c72ff7",
   "metadata": {},
   "outputs": [
    {
     "data": {
      "text/plain": [
       "<AxesSubplot:>"
      ]
     },
     "execution_count": 6,
     "metadata": {},
     "output_type": "execute_result"
    },
    {
     "data": {
      "image/png": "[encoded data removed]",
      "text/plain": [
       "<Figure size 432x288 with 1 Axes>"
      ]
     },
     "metadata": {
      "needs_background": "light"
     },
     "output_type": "display_data"
    }
   ],
   "source": [
    "# distribution of outcome variable\n",
    "train['Choice'].hist()"
   ]
  },
  {
   "cell_type": "code",
   "execution_count": 7,
   "id": "5e8e648c",
   "metadata": {
    "scrolled": false
   },
   "outputs": [
    {
     "data": {
      "image/png": "[encoded data removed]",
      "text/plain": [
       "<Figure size 1440x576 with 2 Axes>"
      ]
     },
     "metadata": {
      "needs_background": "light"
     },
     "output_type": "display_data"
    },
    {
     "data": {
      "image/png": "[encoded data removed]",
      "text/plain": [
       "<Figure size 1440x576 with 2 Axes>"
      ]
     },
     "metadata": {
      "needs_background": "light"
     },
     "output_type": "display_data"
    },
    {
     "data": {
      "image/png": "[encoded data removed]",
      "text/plain": [
       "<Figure size 1440x576 with 2 Axes>"
      ]
     },
     "metadata": {
      "needs_background": "light"
     },
     "output_type": "display_data"
    },
    {
     "data": {
      "image/png": "[encoded data removed]",
      "text/plain": [
       "<Figure size 1440x576 with 2 Axes>"
      ]
     },
     "metadata": {
      "needs_background": "light"
     },
     "output_type": "display_data"
    },
    {
     "data": {
      "image/png": "[encoded data removed]",
      "text/plain": [
       "<Figure size 1440x576 with 2 Axes>"
      ]
     },
     "metadata": {
      "needs_background": "light"
     },
     "output_type": "display_data"
    },
    {
     "data": {
      "image/png": "[encoded data removed]",
      "text/plain": [
       "<Figure size 1440x576 with 2 Axes>"
      ]
     },
     "metadata": {
      "needs_background": "light"
     },
     "output_type": "display_data"
    },
    {
     "data": {
      "image/png": "[encoded data removed]",
      "text/plain": [
       "<Figure size 1440x576 with 2 Axes>"
      ]
     },
     "metadata": {
      "needs_background": "light"
     },
     "output_type": "display_data"
    },
    {
     "data": {
      "image/png": "[encoded data removed]",
      "text/plain": [
       "<Figure size 1440x576 with 2 Axes>"
      ]
     },
     "metadata": {
      "needs_background": "light"
     },
     "output_type": "display_data"
    },
    {
     "data": {
      "image/png": "[encoded data removed]",
      "text/plain": [
       "<Figure size 1440x576 with 2 Axes>"
      ]
     },
     "metadata": {
      "needs_background": "light"
     },
     "output_type": "display_data"
    },
    {
     "data": {
      "image/png": "[encoded data removed]",
      "text/plain": [
       "<Figure size 1440x576 with 2 Axes>"
      ]
     },
     "metadata": {
      "needs_background": "light"
     },
     "output_type": "display_data"
    },
    {
     "data": {
      "image/png": "[encoded data removed]",
      "text/plain": [
       "<Figure size 1440x576 with 2 Axes>"
      ]
     },
     "metadata": {
      "needs_background": "light"
     },
     "output_type": "display_data"
    }
   ],
   "source": [
    "# distribution of each variable\n",
    "for att in attributes:\n",
    "    dat_a = train['A_' + att]\n",
    "    dat_b = train['B_' + att]\n",
    "    \n",
    "    f, (ax_a, ax_b) = plt.subplots(1, 2, sharey=True, sharex=True, figsize=(20, 8))\n",
    "\n",
    "    # assigning a graph to each ax\n",
    "    sns.histplot(dat_a, ax=ax_a, bins=10)\n",
    "    ax_a.set_title(att + ' for A')\n",
    "    \n",
    "    sns.histplot(dat_b, ax=ax_b, bins=10)\n",
    "    ax_b.set_title(att + ' for B')"
   ]
  },
  {
   "cell_type": "markdown",
   "id": "a789bc7c",
   "metadata": {},
   "source": [
    "**Observations** - \n",
    "1. Distributions for each attributes are very similar hence it makes more sense to take a ratio of A/B as features as it will amplify the relative difference between the two choices. Also adjustments need to be made for the features which can have possible zero value \n",
    "\n",
    "2. Also the distribution are mostly skewed hence a box cox transformation to get normal distribution can probably provide a better accuracy post taking ratio\n",
    "\n",
    "3. Outcome variable, *Choice* is evenly distributed hence there is no need to handle imbalance"
   ]
  },
  {
   "cell_type": "markdown",
   "id": "2d562ee0",
   "metadata": {},
   "source": [
    "## Feature engineering"
   ]
  },
  {
   "cell_type": "code",
   "execution_count": 8,
   "id": "88c5272d",
   "metadata": {},
   "outputs": [
    {
     "data": {
      "text/plain": [
       "['A_following_count',\n",
       " 'A_listed_count',\n",
       " 'A_network_feature_1',\n",
       " 'A_network_feature_2',\n",
       " 'A_network_feature_3',\n",
       " 'B_following_count',\n",
       " 'B_listed_count',\n",
       " 'B_network_feature_1',\n",
       " 'B_network_feature_2',\n",
       " 'B_network_feature_3']"
      ]
     },
     "execution_count": 8,
     "metadata": {},
     "output_type": "execute_result"
    }
   ],
   "source": [
    "# getting the list of variable with zero minimum\n",
    "desc_stat = train.describe().T[1:]\n",
    "zero_min_cols = list(desc_stat[desc_stat['min'] <= 0].index)\n",
    "zero_min_cols"
   ]
  },
  {
   "cell_type": "markdown",
   "id": "bc42196d",
   "metadata": {},
   "source": [
    "### Ratio of A/B"
   ]
  },
  {
   "cell_type": "code",
   "execution_count": 9,
   "id": "cb930334",
   "metadata": {},
   "outputs": [],
   "source": [
    "# creating new train dataframe with transformed variables\n",
    "new_train = pd.DataFrame()\n",
    "new_train['choice'] = train['Choice']\n",
    "\n",
    "# iterating over each attribute to take a ratio\n",
    "for att in attributes:\n",
    "    att_a = 'A_' + att\n",
    "    att_b = 'B_' + att\n",
    "    \n",
    "    dat_a = train[att_a]\n",
    "    dat_b = train[att_b]\n",
    "    \n",
    "    if att_a in zero_min_cols:\n",
    "        dat_a += 1\n",
    "    \n",
    "    if att_b in zero_min_cols:\n",
    "        dat_b += 1\n",
    "    \n",
    "    new_train['A/B_' + att] = dat_a/dat_b"
   ]
  },
  {
   "cell_type": "code",
   "execution_count": 10,
   "id": "fca83e23",
   "metadata": {},
   "outputs": [
    {
     "name": "stdout",
     "output_type": "stream",
     "text": [
      "(5500, 12)\n"
     ]
    },
    {
     "data": {
      "text/html": [
       "<div>\n",
       "<style scoped>\n",
       "    .dataframe tbody tr th:only-of-type {\n",
       "        vertical-align: middle;\n",
       "    }\n",
       "\n",
       "    .dataframe tbody tr th {\n",
       "        vertical-align: top;\n",
       "    }\n",
       "\n",
       "    .dataframe thead th {\n",
       "        text-align: right;\n",
       "    }\n",
       "</style>\n",
       "<table border=\"1\" class=\"dataframe\">\n",
       "  <thead>\n",
       "    <tr style=\"text-align: right;\">\n",
       "      <th></th>\n",
       "      <th>choice</th>\n",
       "      <th>A/B_follower_count</th>\n",
       "      <th>A/B_mentions_received</th>\n",
       "      <th>A/B_retweets_sent</th>\n",
       "      <th>A/B_network_feature_1</th>\n",
       "      <th>A/B_listed_count</th>\n",
       "      <th>A/B_network_feature_2</th>\n",
       "      <th>A/B_retweets_received</th>\n",
       "      <th>A/B_posts</th>\n",
       "      <th>A/B_network_feature_3</th>\n",
       "      <th>A/B_following_count</th>\n",
       "      <th>A/B_mentions_sent</th>\n",
       "    </tr>\n",
       "  </thead>\n",
       "  <tbody>\n",
       "    <tr>\n",
       "      <th>0</th>\n",
       "      <td>0</td>\n",
       "      <td>0.006616</td>\n",
       "      <td>0.037846</td>\n",
       "      <td>0.302336</td>\n",
       "      <td>0.044776</td>\n",
       "      <td>0.002367</td>\n",
       "      <td>2.188676</td>\n",
       "      <td>0.025227</td>\n",
       "      <td>0.051819</td>\n",
       "      <td>5.921078</td>\n",
       "      <td>0.010165</td>\n",
       "      <td>0.012250</td>\n",
       "    </tr>\n",
       "    <tr>\n",
       "      <th>1</th>\n",
       "      <td>0</td>\n",
       "      <td>0.549921</td>\n",
       "      <td>2.233769</td>\n",
       "      <td>1.968943</td>\n",
       "      <td>2.256098</td>\n",
       "      <td>0.142148</td>\n",
       "      <td>0.146154</td>\n",
       "      <td>2.884551</td>\n",
       "      <td>4.836513</td>\n",
       "      <td>0.454001</td>\n",
       "      <td>1.389870</td>\n",
       "      <td>1.768866</td>\n",
       "    </tr>\n",
       "    <tr>\n",
       "      <th>2</th>\n",
       "      <td>0</td>\n",
       "      <td>2.018222</td>\n",
       "      <td>34.713213</td>\n",
       "      <td>5.882446</td>\n",
       "      <td>24.000000</td>\n",
       "      <td>0.492754</td>\n",
       "      <td>6.170103</td>\n",
       "      <td>26.966469</td>\n",
       "      <td>5.951102</td>\n",
       "      <td>21.560109</td>\n",
       "      <td>2.517598</td>\n",
       "      <td>8.888426</td>\n",
       "    </tr>\n",
       "    <tr>\n",
       "      <th>3</th>\n",
       "      <td>0</td>\n",
       "      <td>0.001022</td>\n",
       "      <td>0.013425</td>\n",
       "      <td>0.014022</td>\n",
       "      <td>0.003971</td>\n",
       "      <td>0.010753</td>\n",
       "      <td>0.122603</td>\n",
       "      <td>0.000711</td>\n",
       "      <td>0.088176</td>\n",
       "      <td>0.069561</td>\n",
       "      <td>0.000454</td>\n",
       "      <td>0.048327</td>\n",
       "    </tr>\n",
       "    <tr>\n",
       "      <th>4</th>\n",
       "      <td>1</td>\n",
       "      <td>6.035081</td>\n",
       "      <td>6.890807</td>\n",
       "      <td>2.977058</td>\n",
       "      <td>6.418605</td>\n",
       "      <td>14.516484</td>\n",
       "      <td>2.594026</td>\n",
       "      <td>10.330091</td>\n",
       "      <td>5.229015</td>\n",
       "      <td>1.421241</td>\n",
       "      <td>0.504089</td>\n",
       "      <td>4.121682</td>\n",
       "    </tr>\n",
       "  </tbody>\n",
       "</table>\n",
       "</div>"
      ],
      "text/plain": [
       "   choice  A/B_follower_count  A/B_mentions_received  A/B_retweets_sent  \\\n",
       "0       0            0.006616               0.037846           0.302336   \n",
       "1       0            0.549921               2.233769           1.968943   \n",
       "2       0            2.018222              34.713213           5.882446   \n",
       "3       0            0.001022               0.013425           0.014022   \n",
       "4       1            6.035081               6.890807           2.977058   \n",
       "\n",
       "   A/B_network_feature_1  A/B_listed_count  A/B_network_feature_2  \\\n",
       "0               0.044776          0.002367               2.188676   \n",
       "1               2.256098          0.142148               0.146154   \n",
       "2              24.000000          0.492754               6.170103   \n",
       "3               0.003971          0.010753               0.122603   \n",
       "4               6.418605         14.516484               2.594026   \n",
       "\n",
       "   A/B_retweets_received  A/B_posts  A/B_network_feature_3  \\\n",
       "0               0.025227   0.051819               5.921078   \n",
       "1               2.884551   4.836513               0.454001   \n",
       "2              26.966469   5.951102              21.560109   \n",
       "3               0.000711   0.088176               0.069561   \n",
       "4              10.330091   5.229015               1.421241   \n",
       "\n",
       "   A/B_following_count  A/B_mentions_sent  \n",
       "0             0.010165           0.012250  \n",
       "1             1.389870           1.768866  \n",
       "2             2.517598           8.888426  \n",
       "3             0.000454           0.048327  \n",
       "4             0.504089           4.121682  "
      ]
     },
     "execution_count": 10,
     "metadata": {},
     "output_type": "execute_result"
    }
   ],
   "source": [
    "print(new_train.shape)\n",
    "new_train.head()"
   ]
  },
  {
   "cell_type": "code",
   "execution_count": 11,
   "id": "19cb720f",
   "metadata": {},
   "outputs": [
    {
     "data": {
      "text/html": [
       "<div>\n",
       "<style scoped>\n",
       "    .dataframe tbody tr th:only-of-type {\n",
       "        vertical-align: middle;\n",
       "    }\n",
       "\n",
       "    .dataframe tbody tr th {\n",
       "        vertical-align: top;\n",
       "    }\n",
       "\n",
       "    .dataframe thead th {\n",
       "        text-align: right;\n",
       "    }\n",
       "</style>\n",
       "<table border=\"1\" class=\"dataframe\">\n",
       "  <thead>\n",
       "    <tr style=\"text-align: right;\">\n",
       "      <th></th>\n",
       "      <th>count</th>\n",
       "      <th>mean</th>\n",
       "      <th>std</th>\n",
       "      <th>min</th>\n",
       "      <th>25%</th>\n",
       "      <th>50%</th>\n",
       "      <th>75%</th>\n",
       "      <th>max</th>\n",
       "    </tr>\n",
       "  </thead>\n",
       "  <tbody>\n",
       "    <tr>\n",
       "      <th>A/B_follower_count</th>\n",
       "      <td>5500.0</td>\n",
       "      <td>609.063937</td>\n",
       "      <td>9180.138456</td>\n",
       "      <td>0.000004</td>\n",
       "      <td>0.062139</td>\n",
       "      <td>1.014562</td>\n",
       "      <td>17.551299</td>\n",
       "      <td>4.771410e+05</td>\n",
       "    </tr>\n",
       "    <tr>\n",
       "      <th>A/B_following_count</th>\n",
       "      <td>5500.0</td>\n",
       "      <td>178.406229</td>\n",
       "      <td>4050.360615</td>\n",
       "      <td>0.000003</td>\n",
       "      <td>0.179344</td>\n",
       "      <td>1.039417</td>\n",
       "      <td>5.910295</td>\n",
       "      <td>2.753725e+05</td>\n",
       "    </tr>\n",
       "    <tr>\n",
       "      <th>A/B_listed_count</th>\n",
       "      <td>5500.0</td>\n",
       "      <td>150.331877</td>\n",
       "      <td>1147.396530</td>\n",
       "      <td>0.000026</td>\n",
       "      <td>0.086704</td>\n",
       "      <td>1.075518</td>\n",
       "      <td>12.756741</td>\n",
       "      <td>4.520300e+04</td>\n",
       "    </tr>\n",
       "    <tr>\n",
       "      <th>A/B_mentions_received</th>\n",
       "      <td>5500.0</td>\n",
       "      <td>1406.198292</td>\n",
       "      <td>26896.696784</td>\n",
       "      <td>0.000002</td>\n",
       "      <td>0.054930</td>\n",
       "      <td>0.987268</td>\n",
       "      <td>19.754961</td>\n",
       "      <td>1.727666e+06</td>\n",
       "    </tr>\n",
       "    <tr>\n",
       "      <th>A/B_mentions_sent</th>\n",
       "      <td>5500.0</td>\n",
       "      <td>14.685839</td>\n",
       "      <td>45.076328</td>\n",
       "      <td>0.001308</td>\n",
       "      <td>0.162619</td>\n",
       "      <td>1.000000</td>\n",
       "      <td>6.254171</td>\n",
       "      <td>7.642482e+02</td>\n",
       "    </tr>\n",
       "    <tr>\n",
       "      <th>A/B_network_feature_1</th>\n",
       "      <td>5500.0</td>\n",
       "      <td>468.133834</td>\n",
       "      <td>5068.510080</td>\n",
       "      <td>0.000005</td>\n",
       "      <td>0.065650</td>\n",
       "      <td>1.000000</td>\n",
       "      <td>16.917187</td>\n",
       "      <td>2.137190e+05</td>\n",
       "    </tr>\n",
       "    <tr>\n",
       "      <th>A/B_network_feature_2</th>\n",
       "      <td>5500.0</td>\n",
       "      <td>9.686371</td>\n",
       "      <td>38.800237</td>\n",
       "      <td>0.002456</td>\n",
       "      <td>0.255487</td>\n",
       "      <td>1.000000</td>\n",
       "      <td>3.733242</td>\n",
       "      <td>8.370000e+02</td>\n",
       "    </tr>\n",
       "    <tr>\n",
       "      <th>A/B_network_feature_3</th>\n",
       "      <td>5500.0</td>\n",
       "      <td>176.286457</td>\n",
       "      <td>1276.470256</td>\n",
       "      <td>0.000031</td>\n",
       "      <td>0.341131</td>\n",
       "      <td>0.951415</td>\n",
       "      <td>2.845916</td>\n",
       "      <td>4.456714e+04</td>\n",
       "    </tr>\n",
       "    <tr>\n",
       "      <th>A/B_posts</th>\n",
       "      <td>5500.0</td>\n",
       "      <td>14.195777</td>\n",
       "      <td>63.460866</td>\n",
       "      <td>0.000521</td>\n",
       "      <td>0.170097</td>\n",
       "      <td>1.000000</td>\n",
       "      <td>5.583226</td>\n",
       "      <td>1.921054e+03</td>\n",
       "    </tr>\n",
       "    <tr>\n",
       "      <th>A/B_retweets_received</th>\n",
       "      <td>5500.0</td>\n",
       "      <td>1223.315069</td>\n",
       "      <td>12865.123172</td>\n",
       "      <td>0.000003</td>\n",
       "      <td>0.052735</td>\n",
       "      <td>1.000000</td>\n",
       "      <td>21.228532</td>\n",
       "      <td>5.208749e+05</td>\n",
       "    </tr>\n",
       "    <tr>\n",
       "      <th>A/B_retweets_sent</th>\n",
       "      <td>5500.0</td>\n",
       "      <td>5.585569</td>\n",
       "      <td>13.770836</td>\n",
       "      <td>0.006169</td>\n",
       "      <td>0.279538</td>\n",
       "      <td>1.000000</td>\n",
       "      <td>3.629659</td>\n",
       "      <td>1.379770e+02</td>\n",
       "    </tr>\n",
       "    <tr>\n",
       "      <th>choice</th>\n",
       "      <td>5500.0</td>\n",
       "      <td>0.509455</td>\n",
       "      <td>0.499956</td>\n",
       "      <td>0.000000</td>\n",
       "      <td>0.000000</td>\n",
       "      <td>1.000000</td>\n",
       "      <td>1.000000</td>\n",
       "      <td>1.000000e+00</td>\n",
       "    </tr>\n",
       "  </tbody>\n",
       "</table>\n",
       "</div>"
      ],
      "text/plain": [
       "                        count         mean           std       min       25%  \\\n",
       "A/B_follower_count     5500.0   609.063937   9180.138456  0.000004  0.062139   \n",
       "A/B_following_count    5500.0   178.406229   4050.360615  0.000003  0.179344   \n",
       "A/B_listed_count       5500.0   150.331877   1147.396530  0.000026  0.086704   \n",
       "A/B_mentions_received  5500.0  1406.198292  26896.696784  0.000002  0.054930   \n",
       "A/B_mentions_sent      5500.0    14.685839     45.076328  0.001308  0.162619   \n",
       "A/B_network_feature_1  5500.0   468.133834   5068.510080  0.000005  0.065650   \n",
       "A/B_network_feature_2  5500.0     9.686371     38.800237  0.002456  0.255487   \n",
       "A/B_network_feature_3  5500.0   176.286457   1276.470256  0.000031  0.341131   \n",
       "A/B_posts              5500.0    14.195777     63.460866  0.000521  0.170097   \n",
       "A/B_retweets_received  5500.0  1223.315069  12865.123172  0.000003  0.052735   \n",
       "A/B_retweets_sent      5500.0     5.585569     13.770836  0.006169  0.279538   \n",
       "choice                 5500.0     0.509455      0.499956  0.000000  0.000000   \n",
       "\n",
       "                            50%        75%           max  \n",
       "A/B_follower_count     1.014562  17.551299  4.771410e+05  \n",
       "A/B_following_count    1.039417   5.910295  2.753725e+05  \n",
       "A/B_listed_count       1.075518  12.756741  4.520300e+04  \n",
       "A/B_mentions_received  0.987268  19.754961  1.727666e+06  \n",
       "A/B_mentions_sent      1.000000   6.254171  7.642482e+02  \n",
       "A/B_network_feature_1  1.000000  16.917187  2.137190e+05  \n",
       "A/B_network_feature_2  1.000000   3.733242  8.370000e+02  \n",
       "A/B_network_feature_3  0.951415   2.845916  4.456714e+04  \n",
       "A/B_posts              1.000000   5.583226  1.921054e+03  \n",
       "A/B_retweets_received  1.000000  21.228532  5.208749e+05  \n",
       "A/B_retweets_sent      1.000000   3.629659  1.379770e+02  \n",
       "choice                 1.000000   1.000000  1.000000e+00  "
      ]
     },
     "execution_count": 11,
     "metadata": {},
     "output_type": "execute_result"
    }
   ],
   "source": [
    "# sorting columns for ease\n",
    "cols = sorted(new_train.columns)\n",
    "new_train = new_train[cols]\n",
    "\n",
    "# checking the descriptive stats of the data\n",
    "new_train.describe().T"
   ]
  },
  {
   "cell_type": "code",
   "execution_count": 12,
   "id": "fcb36ef9",
   "metadata": {
    "scrolled": false
   },
   "outputs": [
    {
     "data": {
      "image/png": "[encoded data removed]",
      "text/plain": [
       "<Figure size 432x288 with 1 Axes>"
      ]
     },
     "metadata": {
      "needs_background": "light"
     },
     "output_type": "display_data"
    },
    {
     "data": {
      "image/png": "[encoded data removed]",
      "text/plain": [
       "<Figure size 432x288 with 1 Axes>"
      ]
     },
     "metadata": {
      "needs_background": "light"
     },
     "output_type": "display_data"
    },
    {
     "data": {
      "image/png": "[encoded data removed]",
      "text/plain": [
       "<Figure size 432x288 with 1 Axes>"
      ]
     },
     "metadata": {
      "needs_background": "light"
     },
     "output_type": "display_data"
    },
    {
     "data": {
      "image/png": "[encoded data removed]",
      "text/plain": [
       "<Figure size 432x288 with 1 Axes>"
      ]
     },
     "metadata": {
      "needs_background": "light"
     },
     "output_type": "display_data"
    },
    {
     "data": {
      "image/png": "[encoded data removed]",
      "text/plain": [
       "<Figure size 432x288 with 1 Axes>"
      ]
     },
     "metadata": {
      "needs_background": "light"
     },
     "output_type": "display_data"
    },
    {
     "data": {
      "image/png": "[encoded data removed]",
      "text/plain": [
       "<Figure size 432x288 with 1 Axes>"
      ]
     },
     "metadata": {
      "needs_background": "light"
     },
     "output_type": "display_data"
    },
    {
     "data": {
      "image/png": "[encoded data removed]",
      "text/plain": [
       "<Figure size 432x288 with 1 Axes>"
      ]
     },
     "metadata": {
      "needs_background": "light"
     },
     "output_type": "display_data"
    },
    {
     "data": {
      "image/png": "[encoded data removed]",
      "text/plain": [
       "<Figure size 432x288 with 1 Axes>"
      ]
     },
     "metadata": {
      "needs_background": "light"
     },
     "output_type": "display_data"
    },
    {
     "data": {
      "image/png": "[encoded data removed]",
      "text/plain": [
       "<Figure size 432x288 with 1 Axes>"
      ]
     },
     "metadata": {
      "needs_background": "light"
     },
     "output_type": "display_data"
    },
    {
     "data": {
      "image/png": "[encoded data removed]",
      "text/plain": [
       "<Figure size 432x288 with 1 Axes>"
      ]
     },
     "metadata": {
      "needs_background": "light"
     },
     "output_type": "display_data"
    },
    {
     "data": {
      "image/png": "[encoded data removed]",
      "text/plain": [
       "<Figure size 432x288 with 1 Axes>"
      ]
     },
     "metadata": {
      "needs_background": "light"
     },
     "output_type": "display_data"
    }
   ],
   "source": [
    "# visualizing the ratio variables created\n",
    "for att in attributes:\n",
    "    col = 'A/B_' + att\n",
    "    dat_ab = new_train[col]\n",
    "    \n",
    "    # assigning a graph to each ax\n",
    "    plt.hist(dat_ab, bins=10)\n",
    "    plt.title(att + ' ratio')\n",
    "    \n",
    "    plt.show()"
   ]
  },
  {
   "cell_type": "markdown",
   "id": "a3063a06",
   "metadata": {},
   "source": [
    "**Note** -\n",
    "1. All the attributes doesn't resemble normal like distributions\n",
    "2. All the attributes have non-zero minimum but are very close to 0\n",
    "\n",
    "Based on the distribution Box cox transformation needs to be done. Post the transformation, *MinMaxScaling* might be required"
   ]
  },
  {
   "cell_type": "markdown",
   "id": "759ad258",
   "metadata": {},
   "source": [
    "### Box Cox transformation"
   ]
  },
  {
   "cell_type": "code",
   "execution_count": 13,
   "id": "b5f0375e",
   "metadata": {
    "scrolled": false
   },
   "outputs": [
    {
     "data": {
      "image/png": "[encoded data removed]",
      "text/plain": [
       "<Figure size 432x288 with 1 Axes>"
      ]
     },
     "metadata": {
      "needs_background": "light"
     },
     "output_type": "display_data"
    },
    {
     "data": {
      "image/png": "[encoded data removed]",
      "text/plain": [
       "<Figure size 432x288 with 1 Axes>"
      ]
     },
     "metadata": {
      "needs_background": "light"
     },
     "output_type": "display_data"
    },
    {
     "data": {
      "image/png": "[encoded data removed]",
      "text/plain": [
       "<Figure size 432x288 with 1 Axes>"
      ]
     },
     "metadata": {
      "needs_background": "light"
     },
     "output_type": "display_data"
    },
    {
     "data": {
      "image/png": "[encoded data removed]",
      "text/plain": [
       "<Figure size 432x288 with 1 Axes>"
      ]
     },
     "metadata": {
      "needs_background": "light"
     },
     "output_type": "display_data"
    },
    {
     "data": {
      "image/png": "[encoded data removed]",
      "text/plain": [
       "<Figure size 432x288 with 1 Axes>"
      ]
     },
     "metadata": {
      "needs_background": "light"
     },
     "output_type": "display_data"
    },
    {
     "data": {
      "image/png": "[encoded data removed]",
      "text/plain": [
       "<Figure size 432x288 with 1 Axes>"
      ]
     },
     "metadata": {
      "needs_background": "light"
     },
     "output_type": "display_data"
    },
    {
     "data": {
      "image/png": "[encoded data removed]",
      "text/plain": [
       "<Figure size 432x288 with 1 Axes>"
      ]
     },
     "metadata": {
      "needs_background": "light"
     },
     "output_type": "display_data"
    },
    {
     "data": {
      "image/png": "[encoded data removed]",
      "text/plain": [
       "<Figure size 432x288 with 1 Axes>"
      ]
     },
     "metadata": {
      "needs_background": "light"
     },
     "output_type": "display_data"
    },
    {
     "data": {
      "image/png": "[encoded data removed]",
      "text/plain": [
       "<Figure size 432x288 with 1 Axes>"
      ]
     },
     "metadata": {
      "needs_background": "light"
     },
     "output_type": "display_data"
    },
    {
     "data": {
      "image/png": "[encoded data removed]",
      "text/plain": [
       "<Figure size 432x288 with 1 Axes>"
      ]
     },
     "metadata": {
      "needs_background": "light"
     },
     "output_type": "display_data"
    },
    {
     "data": {
      "image/png": "[encoded data removed]",
      "text/plain": [
       "<Figure size 432x288 with 1 Axes>"
      ]
     },
     "metadata": {
      "needs_background": "light"
     },
     "output_type": "display_data"
    }
   ],
   "source": [
    "lambda_dict = {}\n",
    "\n",
    "for att in attributes:\n",
    "    col = 'A/B_' + att\n",
    "    dat_ab = new_train[col]\n",
    "\n",
    "    # box cox transfomation\n",
    "    dat_upd, l = boxcox(dat_ab)\n",
    "    \n",
    "    # histogram of transformed data\n",
    "    plt.title('Boxcox transform ' + col)\n",
    "    plt.hist(dat_upd)\n",
    "    plt.show()\n",
    "\n",
    "    # updating the column\n",
    "    new_train[col + '_bc'] = dat_upd\n",
    "    \n",
    "    # storing the lambda values\n",
    "    lambda_dict[col] = l"
   ]
  },
  {
   "cell_type": "code",
   "execution_count": 14,
   "id": "e6396722",
   "metadata": {},
   "outputs": [
    {
     "data": {
      "text/html": [
       "<div>\n",
       "<style scoped>\n",
       "    .dataframe tbody tr th:only-of-type {\n",
       "        vertical-align: middle;\n",
       "    }\n",
       "\n",
       "    .dataframe tbody tr th {\n",
       "        vertical-align: top;\n",
       "    }\n",
       "\n",
       "    .dataframe thead th {\n",
       "        text-align: right;\n",
       "    }\n",
       "</style>\n",
       "<table border=\"1\" class=\"dataframe\">\n",
       "  <thead>\n",
       "    <tr style=\"text-align: right;\">\n",
       "      <th></th>\n",
       "      <th>count</th>\n",
       "      <th>mean</th>\n",
       "      <th>std</th>\n",
       "      <th>min</th>\n",
       "      <th>25%</th>\n",
       "      <th>50%</th>\n",
       "      <th>75%</th>\n",
       "      <th>max</th>\n",
       "    </tr>\n",
       "  </thead>\n",
       "  <tbody>\n",
       "    <tr>\n",
       "      <th>A/B_follower_count_bc</th>\n",
       "      <td>5500.0</td>\n",
       "      <td>0.038921</td>\n",
       "      <td>4.187246</td>\n",
       "      <td>-12.128910</td>\n",
       "      <td>-2.768494</td>\n",
       "      <td>0.014455</td>\n",
       "      <td>2.875701</td>\n",
       "      <td>13.297719</td>\n",
       "    </tr>\n",
       "    <tr>\n",
       "      <th>A/B_mentions_received_bc</th>\n",
       "      <td>5500.0</td>\n",
       "      <td>0.023540</td>\n",
       "      <td>4.321747</td>\n",
       "      <td>-13.288536</td>\n",
       "      <td>-2.896852</td>\n",
       "      <td>-0.012813</td>\n",
       "      <td>2.988538</td>\n",
       "      <td>14.481763</td>\n",
       "    </tr>\n",
       "    <tr>\n",
       "      <th>A/B_retweets_sent_bc</th>\n",
       "      <td>5500.0</td>\n",
       "      <td>0.001479</td>\n",
       "      <td>1.967453</td>\n",
       "      <td>-5.142216</td>\n",
       "      <td>-1.277992</td>\n",
       "      <td>0.000000</td>\n",
       "      <td>1.285699</td>\n",
       "      <td>4.877085</td>\n",
       "    </tr>\n",
       "    <tr>\n",
       "      <th>A/B_network_feature_1_bc</th>\n",
       "      <td>5500.0</td>\n",
       "      <td>0.028616</td>\n",
       "      <td>4.033498</td>\n",
       "      <td>-12.038152</td>\n",
       "      <td>-2.718154</td>\n",
       "      <td>0.000000</td>\n",
       "      <td>2.834029</td>\n",
       "      <td>12.380218</td>\n",
       "    </tr>\n",
       "    <tr>\n",
       "      <th>A/B_listed_count_bc</th>\n",
       "      <td>5500.0</td>\n",
       "      <td>0.039810</td>\n",
       "      <td>3.662209</td>\n",
       "      <td>-10.316576</td>\n",
       "      <td>-2.432231</td>\n",
       "      <td>0.072813</td>\n",
       "      <td>2.560284</td>\n",
       "      <td>10.974063</td>\n",
       "    </tr>\n",
       "    <tr>\n",
       "      <th>A/B_network_feature_2_bc</th>\n",
       "      <td>5500.0</td>\n",
       "      <td>-0.009197</td>\n",
       "      <td>2.159072</td>\n",
       "      <td>-6.057224</td>\n",
       "      <td>-1.367053</td>\n",
       "      <td>0.000000</td>\n",
       "      <td>1.314980</td>\n",
       "      <td>6.670165</td>\n",
       "    </tr>\n",
       "    <tr>\n",
       "      <th>A/B_retweets_received_bc</th>\n",
       "      <td>5500.0</td>\n",
       "      <td>0.031337</td>\n",
       "      <td>4.400936</td>\n",
       "      <td>-12.592422</td>\n",
       "      <td>-2.938134</td>\n",
       "      <td>0.000000</td>\n",
       "      <td>3.060040</td>\n",
       "      <td>13.250677</td>\n",
       "    </tr>\n",
       "    <tr>\n",
       "      <th>A/B_posts_bc</th>\n",
       "      <td>5500.0</td>\n",
       "      <td>-0.012587</td>\n",
       "      <td>2.492225</td>\n",
       "      <td>-7.570493</td>\n",
       "      <td>-1.771927</td>\n",
       "      <td>0.000000</td>\n",
       "      <td>1.719256</td>\n",
       "      <td>7.550783</td>\n",
       "    </tr>\n",
       "    <tr>\n",
       "      <th>A/B_network_feature_3_bc</th>\n",
       "      <td>5500.0</td>\n",
       "      <td>-0.016720</td>\n",
       "      <td>2.874036</td>\n",
       "      <td>-10.301404</td>\n",
       "      <td>-1.074703</td>\n",
       "      <td>-0.049803</td>\n",
       "      <td>1.046628</td>\n",
       "      <td>10.782976</td>\n",
       "    </tr>\n",
       "    <tr>\n",
       "      <th>A/B_following_count_bc</th>\n",
       "      <td>5500.0</td>\n",
       "      <td>0.033638</td>\n",
       "      <td>3.024690</td>\n",
       "      <td>-12.652326</td>\n",
       "      <td>-1.717331</td>\n",
       "      <td>0.038660</td>\n",
       "      <td>1.777892</td>\n",
       "      <td>12.585525</td>\n",
       "    </tr>\n",
       "    <tr>\n",
       "      <th>A/B_mentions_sent_bc</th>\n",
       "      <td>5500.0</td>\n",
       "      <td>0.015999</td>\n",
       "      <td>2.591432</td>\n",
       "      <td>-6.674739</td>\n",
       "      <td>-1.819024</td>\n",
       "      <td>0.000000</td>\n",
       "      <td>1.830528</td>\n",
       "      <td>6.603303</td>\n",
       "    </tr>\n",
       "  </tbody>\n",
       "</table>\n",
       "</div>"
      ],
      "text/plain": [
       "                           count      mean       std        min       25%  \\\n",
       "A/B_follower_count_bc     5500.0  0.038921  4.187246 -12.128910 -2.768494   \n",
       "A/B_mentions_received_bc  5500.0  0.023540  4.321747 -13.288536 -2.896852   \n",
       "A/B_retweets_sent_bc      5500.0  0.001479  1.967453  -5.142216 -1.277992   \n",
       "A/B_network_feature_1_bc  5500.0  0.028616  4.033498 -12.038152 -2.718154   \n",
       "A/B_listed_count_bc       5500.0  0.039810  3.662209 -10.316576 -2.432231   \n",
       "A/B_network_feature_2_bc  5500.0 -0.009197  2.159072  -6.057224 -1.367053   \n",
       "A/B_retweets_received_bc  5500.0  0.031337  4.400936 -12.592422 -2.938134   \n",
       "A/B_posts_bc              5500.0 -0.012587  2.492225  -7.570493 -1.771927   \n",
       "A/B_network_feature_3_bc  5500.0 -0.016720  2.874036 -10.301404 -1.074703   \n",
       "A/B_following_count_bc    5500.0  0.033638  3.024690 -12.652326 -1.717331   \n",
       "A/B_mentions_sent_bc      5500.0  0.015999  2.591432  -6.674739 -1.819024   \n",
       "\n",
       "                               50%       75%        max  \n",
       "A/B_follower_count_bc     0.014455  2.875701  13.297719  \n",
       "A/B_mentions_received_bc -0.012813  2.988538  14.481763  \n",
       "A/B_retweets_sent_bc      0.000000  1.285699   4.877085  \n",
       "A/B_network_feature_1_bc  0.000000  2.834029  12.380218  \n",
       "A/B_listed_count_bc       0.072813  2.560284  10.974063  \n",
       "A/B_network_feature_2_bc  0.000000  1.314980   6.670165  \n",
       "A/B_retweets_received_bc  0.000000  3.060040  13.250677  \n",
       "A/B_posts_bc              0.000000  1.719256   7.550783  \n",
       "A/B_network_feature_3_bc -0.049803  1.046628  10.782976  \n",
       "A/B_following_count_bc    0.038660  1.777892  12.585525  \n",
       "A/B_mentions_sent_bc      0.000000  1.830528   6.603303  "
      ]
     },
     "execution_count": 14,
     "metadata": {},
     "output_type": "execute_result"
    }
   ],
   "source": [
    "# descriptive stats of data post boxcox\n",
    "new_train.iloc[:, -11:].describe().T"
   ]
  },
  {
   "cell_type": "code",
   "execution_count": 15,
   "id": "7de9b2fe",
   "metadata": {},
   "outputs": [
    {
     "data": {
      "text/plain": [
       "{'A/B_follower_count': 0.0025696945679236564,\n",
       " 'A/B_mentions_received': 0.0011520824914060031,\n",
       " 'A/B_retweets_sent': -0.004147508718332155,\n",
       " 'A/B_network_feature_1': 0.001423180094186756,\n",
       " 'A/B_listed_count': 0.004372225426375166,\n",
       " 'A/B_network_feature_2': -0.0026502048037810072,\n",
       " 'A/B_retweets_received': 0.0010045179434671851,\n",
       " 'A/B_posts': -0.0003447867301909838,\n",
       " 'A/B_network_feature_3': 0.001358644220695189,\n",
       " 'A/B_following_count': 0.0007578992356926833,\n",
       " 'A/B_mentions_sent': -0.0016207708784317825}"
      ]
     },
     "execution_count": 15,
     "metadata": {},
     "output_type": "execute_result"
    }
   ],
   "source": [
    "# lambda values post transformation\n",
    "lambda_dict"
   ]
  },
  {
   "cell_type": "markdown",
   "id": "b4a27727",
   "metadata": {},
   "source": [
    "1. The lambda values for each attributes, which are very close to 0, indicates that a log transformation would have been sufficient to get normal-like distribution.\n",
    "2. Based on descriptive statistics, all attributes have zero mean, but standard deviation is not hence scaling is required \n",
    "3. Since the distribution of each attribute is very clean, *StandardScaler* will be used"
   ]
  },
  {
   "cell_type": "markdown",
   "id": "d51c1cfa",
   "metadata": {},
   "source": [
    "### Scaling"
   ]
  },
  {
   "cell_type": "code",
   "execution_count": 16,
   "id": "75a6bacc",
   "metadata": {},
   "outputs": [],
   "source": [
    "bc_ratio_attributes = ['A/B_' + att + '_bc' for att in attributes]\n",
    "\n",
    "# creating scaler to fit and transform\n",
    "scaler = StandardScaler()\n",
    "scaler.fit(new_train[bc_ratio_attributes])\n",
    "\n",
    "new_train_scaled = pd.DataFrame(\n",
    "    scaler.transform(new_train[bc_ratio_attributes]), \n",
    "    columns=bc_ratio_attributes)\n",
    "new_train_scaled['choice'] = new_train['choice']"
   ]
  },
  {
   "cell_type": "code",
   "execution_count": 17,
   "id": "72a123a8",
   "metadata": {},
   "outputs": [
    {
     "data": {
      "text/html": [
       "<div>\n",
       "<style scoped>\n",
       "    .dataframe tbody tr th:only-of-type {\n",
       "        vertical-align: middle;\n",
       "    }\n",
       "\n",
       "    .dataframe tbody tr th {\n",
       "        vertical-align: top;\n",
       "    }\n",
       "\n",
       "    .dataframe thead th {\n",
       "        text-align: right;\n",
       "    }\n",
       "</style>\n",
       "<table border=\"1\" class=\"dataframe\">\n",
       "  <thead>\n",
       "    <tr style=\"text-align: right;\">\n",
       "      <th></th>\n",
       "      <th>count</th>\n",
       "      <th>mean</th>\n",
       "      <th>std</th>\n",
       "      <th>min</th>\n",
       "      <th>25%</th>\n",
       "      <th>50%</th>\n",
       "      <th>75%</th>\n",
       "      <th>max</th>\n",
       "    </tr>\n",
       "  </thead>\n",
       "  <tbody>\n",
       "    <tr>\n",
       "      <th>A/B_follower_count_bc</th>\n",
       "      <td>5500.0</td>\n",
       "      <td>-5.611673e-18</td>\n",
       "      <td>1.000091</td>\n",
       "      <td>-2.906191</td>\n",
       "      <td>-0.670529</td>\n",
       "      <td>-0.005844</td>\n",
       "      <td>0.677543</td>\n",
       "      <td>3.166760</td>\n",
       "    </tr>\n",
       "    <tr>\n",
       "      <th>A/B_mentions_received_bc</th>\n",
       "      <td>5500.0</td>\n",
       "      <td>2.708944e-17</td>\n",
       "      <td>1.000091</td>\n",
       "      <td>-3.080534</td>\n",
       "      <td>-0.675805</td>\n",
       "      <td>-0.008413</td>\n",
       "      <td>0.686127</td>\n",
       "      <td>3.345762</td>\n",
       "    </tr>\n",
       "    <tr>\n",
       "      <th>A/B_retweets_sent_bc</th>\n",
       "      <td>5500.0</td>\n",
       "      <td>-1.092535e-16</td>\n",
       "      <td>1.000091</td>\n",
       "      <td>-2.614631</td>\n",
       "      <td>-0.650377</td>\n",
       "      <td>-0.000752</td>\n",
       "      <td>0.652792</td>\n",
       "      <td>2.478357</td>\n",
       "    </tr>\n",
       "    <tr>\n",
       "      <th>A/B_network_feature_1_bc</th>\n",
       "      <td>5500.0</td>\n",
       "      <td>-1.005256e-17</td>\n",
       "      <td>1.000091</td>\n",
       "      <td>-2.991910</td>\n",
       "      <td>-0.681051</td>\n",
       "      <td>-0.007095</td>\n",
       "      <td>0.695592</td>\n",
       "      <td>3.062534</td>\n",
       "    </tr>\n",
       "    <tr>\n",
       "      <th>A/B_listed_count_bc</th>\n",
       "      <td>5500.0</td>\n",
       "      <td>-1.873249e-17</td>\n",
       "      <td>1.000091</td>\n",
       "      <td>-2.828164</td>\n",
       "      <td>-0.675075</td>\n",
       "      <td>0.009013</td>\n",
       "      <td>0.688301</td>\n",
       "      <td>2.985970</td>\n",
       "    </tr>\n",
       "    <tr>\n",
       "      <th>A/B_network_feature_2_bc</th>\n",
       "      <td>5500.0</td>\n",
       "      <td>1.293914e-17</td>\n",
       "      <td>1.000091</td>\n",
       "      <td>-2.801471</td>\n",
       "      <td>-0.628965</td>\n",
       "      <td>0.004260</td>\n",
       "      <td>0.613364</td>\n",
       "      <td>3.093908</td>\n",
       "    </tr>\n",
       "    <tr>\n",
       "      <th>A/B_retweets_received_bc</th>\n",
       "      <td>5500.0</td>\n",
       "      <td>1.622944e-17</td>\n",
       "      <td>1.000091</td>\n",
       "      <td>-2.868687</td>\n",
       "      <td>-0.674798</td>\n",
       "      <td>-0.007121</td>\n",
       "      <td>0.688258</td>\n",
       "      <td>3.004029</td>\n",
       "    </tr>\n",
       "    <tr>\n",
       "      <th>A/B_posts_bc</th>\n",
       "      <td>5500.0</td>\n",
       "      <td>-4.799191e-18</td>\n",
       "      <td>1.000091</td>\n",
       "      <td>-3.032869</td>\n",
       "      <td>-0.705996</td>\n",
       "      <td>0.005051</td>\n",
       "      <td>0.694962</td>\n",
       "      <td>3.035063</td>\n",
       "    </tr>\n",
       "    <tr>\n",
       "      <th>A/B_network_feature_3_bc</th>\n",
       "      <td>5500.0</td>\n",
       "      <td>1.148576e-17</td>\n",
       "      <td>1.000091</td>\n",
       "      <td>-3.578806</td>\n",
       "      <td>-0.368151</td>\n",
       "      <td>-0.011512</td>\n",
       "      <td>0.370018</td>\n",
       "      <td>3.758017</td>\n",
       "    </tr>\n",
       "    <tr>\n",
       "      <th>A/B_following_count_bc</th>\n",
       "      <td>5500.0</td>\n",
       "      <td>-5.642961e-17</td>\n",
       "      <td>1.000091</td>\n",
       "      <td>-4.194518</td>\n",
       "      <td>-0.578945</td>\n",
       "      <td>0.001661</td>\n",
       "      <td>0.576725</td>\n",
       "      <td>4.150187</td>\n",
       "    </tr>\n",
       "    <tr>\n",
       "      <th>A/B_mentions_sent_bc</th>\n",
       "      <td>5500.0</td>\n",
       "      <td>7.331888e-18</td>\n",
       "      <td>1.000091</td>\n",
       "      <td>-2.582104</td>\n",
       "      <td>-0.708176</td>\n",
       "      <td>-0.006174</td>\n",
       "      <td>0.700267</td>\n",
       "      <td>2.542186</td>\n",
       "    </tr>\n",
       "    <tr>\n",
       "      <th>choice</th>\n",
       "      <td>5500.0</td>\n",
       "      <td>5.094545e-01</td>\n",
       "      <td>0.499956</td>\n",
       "      <td>0.000000</td>\n",
       "      <td>0.000000</td>\n",
       "      <td>1.000000</td>\n",
       "      <td>1.000000</td>\n",
       "      <td>1.000000</td>\n",
       "    </tr>\n",
       "  </tbody>\n",
       "</table>\n",
       "</div>"
      ],
      "text/plain": [
       "                           count          mean       std       min       25%  \\\n",
       "A/B_follower_count_bc     5500.0 -5.611673e-18  1.000091 -2.906191 -0.670529   \n",
       "A/B_mentions_received_bc  5500.0  2.708944e-17  1.000091 -3.080534 -0.675805   \n",
       "A/B_retweets_sent_bc      5500.0 -1.092535e-16  1.000091 -2.614631 -0.650377   \n",
       "A/B_network_feature_1_bc  5500.0 -1.005256e-17  1.000091 -2.991910 -0.681051   \n",
       "A/B_listed_count_bc       5500.0 -1.873249e-17  1.000091 -2.828164 -0.675075   \n",
       "A/B_network_feature_2_bc  5500.0  1.293914e-17  1.000091 -2.801471 -0.628965   \n",
       "A/B_retweets_received_bc  5500.0  1.622944e-17  1.000091 -2.868687 -0.674798   \n",
       "A/B_posts_bc              5500.0 -4.799191e-18  1.000091 -3.032869 -0.705996   \n",
       "A/B_network_feature_3_bc  5500.0  1.148576e-17  1.000091 -3.578806 -0.368151   \n",
       "A/B_following_count_bc    5500.0 -5.642961e-17  1.000091 -4.194518 -0.578945   \n",
       "A/B_mentions_sent_bc      5500.0  7.331888e-18  1.000091 -2.582104 -0.708176   \n",
       "choice                    5500.0  5.094545e-01  0.499956  0.000000  0.000000   \n",
       "\n",
       "                               50%       75%       max  \n",
       "A/B_follower_count_bc    -0.005844  0.677543  3.166760  \n",
       "A/B_mentions_received_bc -0.008413  0.686127  3.345762  \n",
       "A/B_retweets_sent_bc     -0.000752  0.652792  2.478357  \n",
       "A/B_network_feature_1_bc -0.007095  0.695592  3.062534  \n",
       "A/B_listed_count_bc       0.009013  0.688301  2.985970  \n",
       "A/B_network_feature_2_bc  0.004260  0.613364  3.093908  \n",
       "A/B_retweets_received_bc -0.007121  0.688258  3.004029  \n",
       "A/B_posts_bc              0.005051  0.694962  3.035063  \n",
       "A/B_network_feature_3_bc -0.011512  0.370018  3.758017  \n",
       "A/B_following_count_bc    0.001661  0.576725  4.150187  \n",
       "A/B_mentions_sent_bc     -0.006174  0.700267  2.542186  \n",
       "choice                    1.000000  1.000000  1.000000  "
      ]
     },
     "execution_count": 17,
     "metadata": {},
     "output_type": "execute_result"
    }
   ],
   "source": [
    "new_train_scaled.describe().T"
   ]
  },
  {
   "cell_type": "markdown",
   "id": "b7da26c2",
   "metadata": {},
   "source": [
    "## Modeling"
   ]
  },
  {
   "cell_type": "markdown",
   "id": "2e04a190",
   "metadata": {},
   "source": [
    "### Baseline\n",
    "Baseline will be setup based on the raw dataset that is available without any transformations and hyperparameter tuning\n",
    "\n",
    "Logistic regression will be the choice of model as stated in the assignment description. Goal is to get the maximum accuracy with Logistic regresion model class."
   ]
  },
  {
   "cell_type": "code",
   "execution_count": 18,
   "id": "f906ccc7",
   "metadata": {},
   "outputs": [],
   "source": [
    "# auc score calculation for kaggle comparision\n",
    "def auc_roc(y_train, y_pred):\n",
    "    fpr, tpr, thresholds = roc_curve(y_train, y_pred, pos_label=1)\n",
    "    plt.plot(fpr, tpr)\n",
    "    print('Threshold', thresholds)\n",
    "    auc_score = auc(fpr,tpr)\n",
    "    return auc_score"
   ]
  },
  {
   "cell_type": "code",
   "execution_count": 19,
   "id": "d8c3de95",
   "metadata": {},
   "outputs": [],
   "source": [
    "def output_report(y_train, y_pred):\n",
    "    print('Accuracy is ', round(100*accuracy_score(y_train, y_pred),2 ), '%')\n",
    "    cm = confusion_matrix(y_train, y_pred)\n",
    "    print('Confusion Matrix')\n",
    "    cm = np.round(100*cm/len(y_train), 2)\n",
    "    disp = ConfusionMatrixDisplay(confusion_matrix=cm, display_labels=[0, 1])\n",
    "    disp.plot()\n",
    "    plt.show()\n",
    "    print(classification_report(y_train, y_pred))"
   ]
  },
  {
   "cell_type": "code",
   "execution_count": 20,
   "id": "8c993b68",
   "metadata": {},
   "outputs": [],
   "source": [
    "# creating lr instance\n",
    "baseline_lr = LogisticRegression(solver='liblinear')\n",
    "\n",
    "# creating train set X & y\n",
    "X_train_blr = train.iloc[:, 1:]\n",
    "y_train = train['Choice']\n",
    "\n",
    "baseline_lr.fit(X_train_blr, y_train)\n",
    "y_blr = baseline_lr.predict(X_train_blr)"
   ]
  },
  {
   "cell_type": "code",
   "execution_count": 21,
   "id": "857d3278",
   "metadata": {},
   "outputs": [
    {
     "name": "stdout",
     "output_type": "stream",
     "text": [
      "Accuracy is  74.38 %\n",
      "Confusion Matrix\n"
     ]
    },
    {
     "data": {
      "image/png": "[encoded data removed]",
      "text/plain": [
       "<Figure size 432x288 with 2 Axes>"
      ]
     },
     "metadata": {
      "needs_background": "light"
     },
     "output_type": "display_data"
    },
    {
     "name": "stdout",
     "output_type": "stream",
     "text": [
      "              precision    recall  f1-score   support\n",
      "\n",
      "           0       0.75      0.72      0.73      2698\n",
      "           1       0.74      0.77      0.75      2802\n",
      "\n",
      "    accuracy                           0.74      5500\n",
      "   macro avg       0.74      0.74      0.74      5500\n",
      "weighted avg       0.74      0.74      0.74      5500\n",
      "\n"
     ]
    }
   ],
   "source": [
    "output_report(y_train, y_blr)"
   ]
  },
  {
   "cell_type": "markdown",
   "id": "41838088",
   "metadata": {},
   "source": [
    "### Modeling on transformed data: Box-Cox + Ratio"
   ]
  },
  {
   "cell_type": "code",
   "execution_count": 22,
   "id": "53acaf81",
   "metadata": {},
   "outputs": [],
   "source": [
    "# creating lr instance\n",
    "transformed_lr = LogisticRegression(solver='liblinear')\n",
    "\n",
    "# creating train set X & y\n",
    "X_train = new_train[bc_ratio_attributes]\n",
    "\n",
    "transformed_lr.fit(X_train, y_train)\n",
    "y_trans_blr = transformed_lr.predict(X_train)"
   ]
  },
  {
   "cell_type": "code",
   "execution_count": 23,
   "id": "3e967e36",
   "metadata": {
    "scrolled": true
   },
   "outputs": [
    {
     "name": "stdout",
     "output_type": "stream",
     "text": [
      "Accuracy is  76.93 %\n",
      "Confusion Matrix\n"
     ]
    },
    {
     "data": {
      "image/png": "[encoded data removed]",
      "text/plain": [
       "<Figure size 432x288 with 2 Axes>"
      ]
     },
     "metadata": {
      "needs_background": "light"
     },
     "output_type": "display_data"
    },
    {
     "name": "stdout",
     "output_type": "stream",
     "text": [
      "              precision    recall  f1-score   support\n",
      "\n",
      "           0       0.77      0.76      0.76      2698\n",
      "           1       0.77      0.78      0.77      2802\n",
      "\n",
      "    accuracy                           0.77      5500\n",
      "   macro avg       0.77      0.77      0.77      5500\n",
      "weighted avg       0.77      0.77      0.77      5500\n",
      "\n"
     ]
    }
   ],
   "source": [
    "output_report(y_train, y_trans_blr)"
   ]
  },
  {
   "cell_type": "markdown",
   "id": "2da4a78d",
   "metadata": {},
   "source": [
    "### Modeling on transformed data: Box-Cox + Ratio + Scaling"
   ]
  },
  {
   "cell_type": "code",
   "execution_count": 24,
   "id": "3a505cc2",
   "metadata": {},
   "outputs": [],
   "source": [
    "# creating lr instance\n",
    "transformed_lr2 = LogisticRegression(solver='liblinear')\n",
    "\n",
    "# creating train set X & y\n",
    "X_train = new_train_scaled[bc_ratio_attributes]\n",
    "\n",
    "transformed_lr2.fit(X_train, y_train)\n",
    "y_trans_blr = transformed_lr2.predict(X_train)"
   ]
  },
  {
   "cell_type": "code",
   "execution_count": 25,
   "id": "918976f2",
   "metadata": {
    "scrolled": true
   },
   "outputs": [
    {
     "name": "stdout",
     "output_type": "stream",
     "text": [
      "Accuracy is  76.98 %\n",
      "Confusion Matrix\n"
     ]
    },
    {
     "data": {
      "image/png": "[encoded data removed]",
      "text/plain": [
       "<Figure size 432x288 with 2 Axes>"
      ]
     },
     "metadata": {
      "needs_background": "light"
     },
     "output_type": "display_data"
    },
    {
     "name": "stdout",
     "output_type": "stream",
     "text": [
      "              precision    recall  f1-score   support\n",
      "\n",
      "           0       0.77      0.76      0.76      2698\n",
      "           1       0.77      0.78      0.77      2802\n",
      "\n",
      "    accuracy                           0.77      5500\n",
      "   macro avg       0.77      0.77      0.77      5500\n",
      "weighted avg       0.77      0.77      0.77      5500\n",
      "\n"
     ]
    }
   ],
   "source": [
    "output_report(y_train, y_trans_blr)"
   ]
  },
  {
   "cell_type": "markdown",
   "id": "9745439a",
   "metadata": {},
   "source": [
    "### Hyper parameter tuning \n",
    "Parameters to choose - \n",
    "1. L1/L2/ElasticNet\n",
    "2. C\n",
    "3. L1 ratio"
   ]
  },
  {
   "cell_type": "code",
   "execution_count": 26,
   "id": "a3317cf1",
   "metadata": {},
   "outputs": [
    {
     "data": {
      "text/plain": [
       "GridSearchCV(cv=5, estimator=LogisticRegression(solver='saga'), n_jobs=-1,\n",
       "             param_grid={'C': [1e-05, 0.0001, 0.001, 0.01, 0.1, 1, 10, 100,\n",
       "                               1000, 10000],\n",
       "                         'l1_ratio': [0.0, 0.1, 0.2, 0.3, 0.4, 0.5, 0.6, 0.7,\n",
       "                                      0.8, 0.9, 1.0],\n",
       "                         'penalty': ('l1', 'l2', 'elasticnet', 'none')},\n",
       "             scoring='accuracy')"
      ]
     },
     "execution_count": 26,
     "metadata": {},
     "output_type": "execute_result"
    }
   ],
   "source": [
    "lr = LogisticRegression(solver='saga')\n",
    "\n",
    "# creating train set X & y\n",
    "X_train = new_train_scaled[bc_ratio_attributes]\n",
    "\n",
    "# creating grid for parameter search\n",
    "parameters = {'penalty':('l1', 'l2', 'elasticnet', 'none'), \n",
    "              'C':[10**x for x in range(-5, 5)],\n",
    "              'l1_ratio': [x/10 for x in range(11)]\n",
    "             }\n",
    "\n",
    "# creating grid seach cv model\n",
    "tuning_lr = GridSearchCV(lr, parameters, cv=5, n_jobs=-1, scoring='accuracy')\n",
    "tuning_lr.fit(X_train, y_train)"
   ]
  },
  {
   "cell_type": "code",
   "execution_count": 27,
   "id": "0603b7d9",
   "metadata": {},
   "outputs": [
    {
     "data": {
      "text/html": [
       "<div>\n",
       "<style scoped>\n",
       "    .dataframe tbody tr th:only-of-type {\n",
       "        vertical-align: middle;\n",
       "    }\n",
       "\n",
       "    .dataframe tbody tr th {\n",
       "        vertical-align: top;\n",
       "    }\n",
       "\n",
       "    .dataframe thead th {\n",
       "        text-align: right;\n",
       "    }\n",
       "</style>\n",
       "<table border=\"1\" class=\"dataframe\">\n",
       "  <thead>\n",
       "    <tr style=\"text-align: right;\">\n",
       "      <th></th>\n",
       "      <th>mean_fit_time</th>\n",
       "      <th>std_fit_time</th>\n",
       "      <th>mean_score_time</th>\n",
       "      <th>std_score_time</th>\n",
       "      <th>param_C</th>\n",
       "      <th>param_l1_ratio</th>\n",
       "      <th>param_penalty</th>\n",
       "      <th>params</th>\n",
       "      <th>split0_test_score</th>\n",
       "      <th>split1_test_score</th>\n",
       "      <th>split2_test_score</th>\n",
       "      <th>split3_test_score</th>\n",
       "      <th>split4_test_score</th>\n",
       "      <th>mean_test_score</th>\n",
       "      <th>std_test_score</th>\n",
       "      <th>rank_test_score</th>\n",
       "    </tr>\n",
       "  </thead>\n",
       "  <tbody>\n",
       "    <tr>\n",
       "      <th>214</th>\n",
       "      <td>0.030247</td>\n",
       "      <td>0.003054</td>\n",
       "      <td>0.002503</td>\n",
       "      <td>0.000604</td>\n",
       "      <td>0.1</td>\n",
       "      <td>0.9</td>\n",
       "      <td>elasticnet</td>\n",
       "      <td>{'C': 0.1, 'l1_ratio': 0.9, 'penalty': 'elasti...</td>\n",
       "      <td>0.774545</td>\n",
       "      <td>0.757273</td>\n",
       "      <td>0.781818</td>\n",
       "      <td>0.771818</td>\n",
       "      <td>0.763636</td>\n",
       "      <td>0.769818</td>\n",
       "      <td>0.008555</td>\n",
       "      <td>1</td>\n",
       "    </tr>\n",
       "    <tr>\n",
       "      <th>170</th>\n",
       "      <td>0.036383</td>\n",
       "      <td>0.004169</td>\n",
       "      <td>0.002668</td>\n",
       "      <td>0.000677</td>\n",
       "      <td>0.01</td>\n",
       "      <td>0.9</td>\n",
       "      <td>elasticnet</td>\n",
       "      <td>{'C': 0.01, 'l1_ratio': 0.9, 'penalty': 'elast...</td>\n",
       "      <td>0.775455</td>\n",
       "      <td>0.753636</td>\n",
       "      <td>0.775455</td>\n",
       "      <td>0.770000</td>\n",
       "      <td>0.772727</td>\n",
       "      <td>0.769455</td>\n",
       "      <td>0.008164</td>\n",
       "      <td>2</td>\n",
       "    </tr>\n",
       "    <tr>\n",
       "      <th>180</th>\n",
       "      <td>0.036567</td>\n",
       "      <td>0.011367</td>\n",
       "      <td>0.003207</td>\n",
       "      <td>0.001020</td>\n",
       "      <td>0.1</td>\n",
       "      <td>0.1</td>\n",
       "      <td>l1</td>\n",
       "      <td>{'C': 0.1, 'l1_ratio': 0.1, 'penalty': 'l1'}</td>\n",
       "      <td>0.774545</td>\n",
       "      <td>0.757273</td>\n",
       "      <td>0.780909</td>\n",
       "      <td>0.770909</td>\n",
       "      <td>0.763636</td>\n",
       "      <td>0.769455</td>\n",
       "      <td>0.008264</td>\n",
       "      <td>3</td>\n",
       "    </tr>\n",
       "    <tr>\n",
       "      <th>176</th>\n",
       "      <td>0.033929</td>\n",
       "      <td>0.002086</td>\n",
       "      <td>0.002022</td>\n",
       "      <td>0.000305</td>\n",
       "      <td>0.1</td>\n",
       "      <td>0.0</td>\n",
       "      <td>l1</td>\n",
       "      <td>{'C': 0.1, 'l1_ratio': 0.0, 'penalty': 'l1'}</td>\n",
       "      <td>0.774545</td>\n",
       "      <td>0.757273</td>\n",
       "      <td>0.780909</td>\n",
       "      <td>0.770909</td>\n",
       "      <td>0.763636</td>\n",
       "      <td>0.769455</td>\n",
       "      <td>0.008264</td>\n",
       "      <td>3</td>\n",
       "    </tr>\n",
       "    <tr>\n",
       "      <th>184</th>\n",
       "      <td>0.030296</td>\n",
       "      <td>0.002648</td>\n",
       "      <td>0.002113</td>\n",
       "      <td>0.000223</td>\n",
       "      <td>0.1</td>\n",
       "      <td>0.2</td>\n",
       "      <td>l1</td>\n",
       "      <td>{'C': 0.1, 'l1_ratio': 0.2, 'penalty': 'l1'}</td>\n",
       "      <td>0.774545</td>\n",
       "      <td>0.757273</td>\n",
       "      <td>0.780909</td>\n",
       "      <td>0.770909</td>\n",
       "      <td>0.763636</td>\n",
       "      <td>0.769455</td>\n",
       "      <td>0.008264</td>\n",
       "      <td>3</td>\n",
       "    </tr>\n",
       "    <tr>\n",
       "      <th>188</th>\n",
       "      <td>0.031095</td>\n",
       "      <td>0.003251</td>\n",
       "      <td>0.002113</td>\n",
       "      <td>0.000569</td>\n",
       "      <td>0.1</td>\n",
       "      <td>0.3</td>\n",
       "      <td>l1</td>\n",
       "      <td>{'C': 0.1, 'l1_ratio': 0.3, 'penalty': 'l1'}</td>\n",
       "      <td>0.774545</td>\n",
       "      <td>0.757273</td>\n",
       "      <td>0.780909</td>\n",
       "      <td>0.770909</td>\n",
       "      <td>0.763636</td>\n",
       "      <td>0.769455</td>\n",
       "      <td>0.008264</td>\n",
       "      <td>3</td>\n",
       "    </tr>\n",
       "    <tr>\n",
       "      <th>192</th>\n",
       "      <td>0.030935</td>\n",
       "      <td>0.002715</td>\n",
       "      <td>0.002208</td>\n",
       "      <td>0.000516</td>\n",
       "      <td>0.1</td>\n",
       "      <td>0.4</td>\n",
       "      <td>l1</td>\n",
       "      <td>{'C': 0.1, 'l1_ratio': 0.4, 'penalty': 'l1'}</td>\n",
       "      <td>0.774545</td>\n",
       "      <td>0.757273</td>\n",
       "      <td>0.780909</td>\n",
       "      <td>0.770909</td>\n",
       "      <td>0.763636</td>\n",
       "      <td>0.769455</td>\n",
       "      <td>0.008264</td>\n",
       "      <td>3</td>\n",
       "    </tr>\n",
       "    <tr>\n",
       "      <th>196</th>\n",
       "      <td>0.033368</td>\n",
       "      <td>0.006492</td>\n",
       "      <td>0.002665</td>\n",
       "      <td>0.000373</td>\n",
       "      <td>0.1</td>\n",
       "      <td>0.5</td>\n",
       "      <td>l1</td>\n",
       "      <td>{'C': 0.1, 'l1_ratio': 0.5, 'penalty': 'l1'}</td>\n",
       "      <td>0.774545</td>\n",
       "      <td>0.757273</td>\n",
       "      <td>0.780909</td>\n",
       "      <td>0.770909</td>\n",
       "      <td>0.763636</td>\n",
       "      <td>0.769455</td>\n",
       "      <td>0.008264</td>\n",
       "      <td>3</td>\n",
       "    </tr>\n",
       "    <tr>\n",
       "      <th>200</th>\n",
       "      <td>0.030541</td>\n",
       "      <td>0.002625</td>\n",
       "      <td>0.002645</td>\n",
       "      <td>0.000376</td>\n",
       "      <td>0.1</td>\n",
       "      <td>0.6</td>\n",
       "      <td>l1</td>\n",
       "      <td>{'C': 0.1, 'l1_ratio': 0.6, 'penalty': 'l1'}</td>\n",
       "      <td>0.774545</td>\n",
       "      <td>0.757273</td>\n",
       "      <td>0.780909</td>\n",
       "      <td>0.770909</td>\n",
       "      <td>0.763636</td>\n",
       "      <td>0.769455</td>\n",
       "      <td>0.008264</td>\n",
       "      <td>3</td>\n",
       "    </tr>\n",
       "    <tr>\n",
       "      <th>204</th>\n",
       "      <td>0.029491</td>\n",
       "      <td>0.002759</td>\n",
       "      <td>0.002576</td>\n",
       "      <td>0.000672</td>\n",
       "      <td>0.1</td>\n",
       "      <td>0.7</td>\n",
       "      <td>l1</td>\n",
       "      <td>{'C': 0.1, 'l1_ratio': 0.7, 'penalty': 'l1'}</td>\n",
       "      <td>0.774545</td>\n",
       "      <td>0.757273</td>\n",
       "      <td>0.780909</td>\n",
       "      <td>0.770909</td>\n",
       "      <td>0.763636</td>\n",
       "      <td>0.769455</td>\n",
       "      <td>0.008264</td>\n",
       "      <td>3</td>\n",
       "    </tr>\n",
       "  </tbody>\n",
       "</table>\n",
       "</div>"
      ],
      "text/plain": [
       "     mean_fit_time  std_fit_time  mean_score_time  std_score_time param_C  \\\n",
       "214       0.030247      0.003054         0.002503        0.000604     0.1   \n",
       "170       0.036383      0.004169         0.002668        0.000677    0.01   \n",
       "180       0.036567      0.011367         0.003207        0.001020     0.1   \n",
       "176       0.033929      0.002086         0.002022        0.000305     0.1   \n",
       "184       0.030296      0.002648         0.002113        0.000223     0.1   \n",
       "188       0.031095      0.003251         0.002113        0.000569     0.1   \n",
       "192       0.030935      0.002715         0.002208        0.000516     0.1   \n",
       "196       0.033368      0.006492         0.002665        0.000373     0.1   \n",
       "200       0.030541      0.002625         0.002645        0.000376     0.1   \n",
       "204       0.029491      0.002759         0.002576        0.000672     0.1   \n",
       "\n",
       "    param_l1_ratio param_penalty  \\\n",
       "214            0.9    elasticnet   \n",
       "170            0.9    elasticnet   \n",
       "180            0.1            l1   \n",
       "176            0.0            l1   \n",
       "184            0.2            l1   \n",
       "188            0.3            l1   \n",
       "192            0.4            l1   \n",
       "196            0.5            l1   \n",
       "200            0.6            l1   \n",
       "204            0.7            l1   \n",
       "\n",
       "                                                params  split0_test_score  \\\n",
       "214  {'C': 0.1, 'l1_ratio': 0.9, 'penalty': 'elasti...           0.774545   \n",
       "170  {'C': 0.01, 'l1_ratio': 0.9, 'penalty': 'elast...           0.775455   \n",
       "180       {'C': 0.1, 'l1_ratio': 0.1, 'penalty': 'l1'}           0.774545   \n",
       "176       {'C': 0.1, 'l1_ratio': 0.0, 'penalty': 'l1'}           0.774545   \n",
       "184       {'C': 0.1, 'l1_ratio': 0.2, 'penalty': 'l1'}           0.774545   \n",
       "188       {'C': 0.1, 'l1_ratio': 0.3, 'penalty': 'l1'}           0.774545   \n",
       "192       {'C': 0.1, 'l1_ratio': 0.4, 'penalty': 'l1'}           0.774545   \n",
       "196       {'C': 0.1, 'l1_ratio': 0.5, 'penalty': 'l1'}           0.774545   \n",
       "200       {'C': 0.1, 'l1_ratio': 0.6, 'penalty': 'l1'}           0.774545   \n",
       "204       {'C': 0.1, 'l1_ratio': 0.7, 'penalty': 'l1'}           0.774545   \n",
       "\n",
       "     split1_test_score  split2_test_score  split3_test_score  \\\n",
       "214           0.757273           0.781818           0.771818   \n",
       "170           0.753636           0.775455           0.770000   \n",
       "180           0.757273           0.780909           0.770909   \n",
       "176           0.757273           0.780909           0.770909   \n",
       "184           0.757273           0.780909           0.770909   \n",
       "188           0.757273           0.780909           0.770909   \n",
       "192           0.757273           0.780909           0.770909   \n",
       "196           0.757273           0.780909           0.770909   \n",
       "200           0.757273           0.780909           0.770909   \n",
       "204           0.757273           0.780909           0.770909   \n",
       "\n",
       "     split4_test_score  mean_test_score  std_test_score  rank_test_score  \n",
       "214           0.763636         0.769818        0.008555                1  \n",
       "170           0.772727         0.769455        0.008164                2  \n",
       "180           0.763636         0.769455        0.008264                3  \n",
       "176           0.763636         0.769455        0.008264                3  \n",
       "184           0.763636         0.769455        0.008264                3  \n",
       "188           0.763636         0.769455        0.008264                3  \n",
       "192           0.763636         0.769455        0.008264                3  \n",
       "196           0.763636         0.769455        0.008264                3  \n",
       "200           0.763636         0.769455        0.008264                3  \n",
       "204           0.763636         0.769455        0.008264                3  "
      ]
     },
     "execution_count": 27,
     "metadata": {},
     "output_type": "execute_result"
    }
   ],
   "source": [
    "cv_results = pd.DataFrame(tuning_lr.cv_results_)\n",
    "cv_results.sort_values('rank_test_score', inplace=True)\n",
    "\n",
    "# top 10 parameter sets\n",
    "cv_results.head(10)"
   ]
  },
  {
   "cell_type": "code",
   "execution_count": 28,
   "id": "14a1733d",
   "metadata": {},
   "outputs": [
    {
     "name": "stdout",
     "output_type": "stream",
     "text": [
      "Best parameters from Grid Search with  {'C': 0.1, 'l1_ratio': 0.9, 'penalty': 'elasticnet'}\n"
     ]
    }
   ],
   "source": [
    "# best set of estimators\n",
    "print('Best parameters from Grid Search with ', tuning_lr.best_params_)"
   ]
  },
  {
   "cell_type": "code",
   "execution_count": 29,
   "id": "6fdefaef",
   "metadata": {},
   "outputs": [],
   "source": [
    "# fitting the best parameters set\n",
    "best_lr = tuning_lr.best_estimator_\n",
    "best_lr.fit(X_train, y_train)\n",
    "y_pred_best = best_lr.predict(X_train)"
   ]
  },
  {
   "cell_type": "code",
   "execution_count": 30,
   "id": "ef35d6c4",
   "metadata": {},
   "outputs": [
    {
     "name": "stdout",
     "output_type": "stream",
     "text": [
      "Accuracy is  77.13 %\n",
      "Confusion Matrix\n"
     ]
    },
    {
     "data": {
      "image/png": "[encoded data removed]",
      "text/plain": [
       "<Figure size 432x288 with 2 Axes>"
      ]
     },
     "metadata": {
      "needs_background": "light"
     },
     "output_type": "display_data"
    },
    {
     "name": "stdout",
     "output_type": "stream",
     "text": [
      "              precision    recall  f1-score   support\n",
      "\n",
      "           0       0.77      0.76      0.77      2698\n",
      "           1       0.77      0.78      0.78      2802\n",
      "\n",
      "    accuracy                           0.77      5500\n",
      "   macro avg       0.77      0.77      0.77      5500\n",
      "weighted avg       0.77      0.77      0.77      5500\n",
      "\n"
     ]
    }
   ],
   "source": [
    "output_report(y_train, y_pred_best)"
   ]
  },
  {
   "cell_type": "code",
   "execution_count": 31,
   "id": "79655745",
   "metadata": {},
   "outputs": [
    {
     "name": "stdout",
     "output_type": "stream",
     "text": [
      "Threshold [2 1 0]\n"
     ]
    },
    {
     "data": {
      "text/plain": [
       "0.7711427662862861"
      ]
     },
     "execution_count": 31,
     "metadata": {},
     "output_type": "execute_result"
    },
    {
     "data": {
      "image/png": "[encoded data removed]",
      "text/plain": [
       "<Figure size 432x288 with 1 Axes>"
      ]
     },
     "metadata": {
      "needs_background": "light"
     },
     "output_type": "display_data"
    }
   ],
   "source": [
    "auc_roc(y_train, y_pred_best)"
   ]
  },
  {
   "cell_type": "code",
   "execution_count": 42,
   "id": "57e00e1a",
   "metadata": {},
   "outputs": [],
   "source": [
    "train['Choice_pred'] = y_pred_best"
   ]
  },
  {
   "cell_type": "markdown",
   "id": "8b093bb8",
   "metadata": {},
   "source": [
    "### Variable importance"
   ]
  },
  {
   "cell_type": "code",
   "execution_count": 54,
   "id": "5551b70c",
   "metadata": {},
   "outputs": [
    {
     "data": {
      "text/plain": [
       "([0, 1, 2, 3, 4, 5, 6, 7, 8, 9, 10],\n",
       " [Text(0, 0, ''),\n",
       "  Text(0, 0, ''),\n",
       "  Text(0, 0, ''),\n",
       "  Text(0, 0, ''),\n",
       "  Text(0, 0, ''),\n",
       "  Text(0, 0, ''),\n",
       "  Text(0, 0, ''),\n",
       "  Text(0, 0, ''),\n",
       "  Text(0, 0, ''),\n",
       "  Text(0, 0, ''),\n",
       "  Text(0, 0, '')])"
      ]
     },
     "execution_count": 54,
     "metadata": {},
     "output_type": "execute_result"
    },
    {
     "data": {
      "image/png": "[encoded data removed]",
      "text/plain": [
       "<Figure size 720x576 with 1 Axes>"
      ]
     },
     "metadata": {
      "needs_background": "light"
     },
     "output_type": "display_data"
    }
   ],
   "source": [
    "# get coefficient values\n",
    "coef = pd.DataFrame({'features': X_train.columns, 'coef_value': best_lr.coef_[0]})\n",
    "coef.sort_values('coef_value', ascending=False, inplace=True)\n",
    "\n",
    "# plotting importance\n",
    "plt.figure(figsize=(10, 8))\n",
    "plt.bar(coef.features, coef.coef_value)\n",
    "plt.xticks(rotation=90)"
   ]
  },
  {
   "cell_type": "markdown",
   "id": "aac45eca",
   "metadata": {},
   "source": [
    "1. Listed count is the most important feature followed by follower counts\n",
    "2. Network feature 1 & 2 are also among the important features, but coef. of feature 3 is zero (due to regularization)\n",
    "3. Number of post have a negative impact on the influencer, which indicates that follower prefer less number of high quality tweets rather than someone who tweets a lot regularly"
   ]
  },
  {
   "cell_type": "markdown",
   "id": "f5554af5",
   "metadata": {},
   "source": [
    "## Test data predictions"
   ]
  },
  {
   "cell_type": "code",
   "execution_count": 33,
   "id": "4938234d",
   "metadata": {},
   "outputs": [
    {
     "data": {
      "text/html": [
       "<div>\n",
       "<style scoped>\n",
       "    .dataframe tbody tr th:only-of-type {\n",
       "        vertical-align: middle;\n",
       "    }\n",
       "\n",
       "    .dataframe tbody tr th {\n",
       "        vertical-align: top;\n",
       "    }\n",
       "\n",
       "    .dataframe thead th {\n",
       "        text-align: right;\n",
       "    }\n",
       "</style>\n",
       "<table border=\"1\" class=\"dataframe\">\n",
       "  <thead>\n",
       "    <tr style=\"text-align: right;\">\n",
       "      <th></th>\n",
       "      <th>A_follower_count</th>\n",
       "      <th>A_following_count</th>\n",
       "      <th>A_listed_count</th>\n",
       "      <th>A_mentions_received</th>\n",
       "      <th>A_retweets_received</th>\n",
       "      <th>A_mentions_sent</th>\n",
       "      <th>A_retweets_sent</th>\n",
       "      <th>A_posts</th>\n",
       "      <th>A_network_feature_1</th>\n",
       "      <th>A_network_feature_2</th>\n",
       "      <th>A_network_feature_3</th>\n",
       "      <th>B_follower_count</th>\n",
       "      <th>B_following_count</th>\n",
       "      <th>B_listed_count</th>\n",
       "      <th>B_mentions_received</th>\n",
       "      <th>B_retweets_received</th>\n",
       "      <th>B_mentions_sent</th>\n",
       "      <th>B_retweets_sent</th>\n",
       "      <th>B_posts</th>\n",
       "      <th>B_network_feature_1</th>\n",
       "      <th>B_network_feature_2</th>\n",
       "      <th>B_network_feature_3</th>\n",
       "    </tr>\n",
       "  </thead>\n",
       "  <tbody>\n",
       "    <tr>\n",
       "      <th>0</th>\n",
       "      <td>614689</td>\n",
       "      <td>400</td>\n",
       "      <td>5729</td>\n",
       "      <td>199.618296</td>\n",
       "      <td>67.812469</td>\n",
       "      <td>9.366192</td>\n",
       "      <td>0.359534</td>\n",
       "      <td>4.094488</td>\n",
       "      <td>669</td>\n",
       "      <td>39.193741</td>\n",
       "      <td>2565.612519</td>\n",
       "      <td>1404323</td>\n",
       "      <td>563</td>\n",
       "      <td>20057</td>\n",
       "      <td>967.720642</td>\n",
       "      <td>579.431128</td>\n",
       "      <td>4.473798</td>\n",
       "      <td>0.805680</td>\n",
       "      <td>6.241806</td>\n",
       "      <td>4027</td>\n",
       "      <td>57.643839</td>\n",
       "      <td>3201.293706</td>\n",
       "    </tr>\n",
       "    <tr>\n",
       "      <th>1</th>\n",
       "      <td>739581</td>\n",
       "      <td>10723</td>\n",
       "      <td>1279</td>\n",
       "      <td>102.026750</td>\n",
       "      <td>96.771319</td>\n",
       "      <td>1.537322</td>\n",
       "      <td>1.054358</td>\n",
       "      <td>3.467754</td>\n",
       "      <td>432</td>\n",
       "      <td>11.191686</td>\n",
       "      <td>966.193995</td>\n",
       "      <td>756715</td>\n",
       "      <td>12949</td>\n",
       "      <td>1311</td>\n",
       "      <td>38.260522</td>\n",
       "      <td>10.697567</td>\n",
       "      <td>12.845793</td>\n",
       "      <td>1.584284</td>\n",
       "      <td>12.106662</td>\n",
       "      <td>144</td>\n",
       "      <td>209.717241</td>\n",
       "      <td>21496.565517</td>\n",
       "    </tr>\n",
       "    <tr>\n",
       "      <th>2</th>\n",
       "      <td>3638</td>\n",
       "      <td>3341</td>\n",
       "      <td>85</td>\n",
       "      <td>2.793577</td>\n",
       "      <td>1.402703</td>\n",
       "      <td>2.594089</td>\n",
       "      <td>0.598150</td>\n",
       "      <td>3.802143</td>\n",
       "      <td>11</td>\n",
       "      <td>9.416667</td>\n",
       "      <td>489.083333</td>\n",
       "      <td>488750</td>\n",
       "      <td>320</td>\n",
       "      <td>3673</td>\n",
       "      <td>1207.190077</td>\n",
       "      <td>599.721600</td>\n",
       "      <td>0.842022</td>\n",
       "      <td>0.593199</td>\n",
       "      <td>7.044735</td>\n",
       "      <td>3918</td>\n",
       "      <td>7.859818</td>\n",
       "      <td>637.983300</td>\n",
       "    </tr>\n",
       "    <tr>\n",
       "      <th>3</th>\n",
       "      <td>613</td>\n",
       "      <td>1259</td>\n",
       "      <td>31</td>\n",
       "      <td>1.326041</td>\n",
       "      <td>0.356943</td>\n",
       "      <td>6.249678</td>\n",
       "      <td>2.323064</td>\n",
       "      <td>7.488116</td>\n",
       "      <td>4</td>\n",
       "      <td>5.000000</td>\n",
       "      <td>275.000000</td>\n",
       "      <td>13456</td>\n",
       "      <td>3599</td>\n",
       "      <td>1072</td>\n",
       "      <td>10.300222</td>\n",
       "      <td>3.828561</td>\n",
       "      <td>1.624092</td>\n",
       "      <td>0.100503</td>\n",
       "      <td>1.614287</td>\n",
       "      <td>43</td>\n",
       "      <td>113.840909</td>\n",
       "      <td>2537.772727</td>\n",
       "    </tr>\n",
       "    <tr>\n",
       "      <th>4</th>\n",
       "      <td>1352348</td>\n",
       "      <td>331</td>\n",
       "      <td>15647</td>\n",
       "      <td>19129.848662</td>\n",
       "      <td>14552.733991</td>\n",
       "      <td>2.065418</td>\n",
       "      <td>0.580955</td>\n",
       "      <td>16.281502</td>\n",
       "      <td>52580</td>\n",
       "      <td>3.092448</td>\n",
       "      <td>597.563636</td>\n",
       "      <td>1481379</td>\n",
       "      <td>147521</td>\n",
       "      <td>15043</td>\n",
       "      <td>9902.070379</td>\n",
       "      <td>5012.055876</td>\n",
       "      <td>10.438460</td>\n",
       "      <td>0.100503</td>\n",
       "      <td>193.072418</td>\n",
       "      <td>28564</td>\n",
       "      <td>10.964144</td>\n",
       "      <td>1035.955493</td>\n",
       "    </tr>\n",
       "    <tr>\n",
       "      <th>...</th>\n",
       "      <td>...</td>\n",
       "      <td>...</td>\n",
       "      <td>...</td>\n",
       "      <td>...</td>\n",
       "      <td>...</td>\n",
       "      <td>...</td>\n",
       "      <td>...</td>\n",
       "      <td>...</td>\n",
       "      <td>...</td>\n",
       "      <td>...</td>\n",
       "      <td>...</td>\n",
       "      <td>...</td>\n",
       "      <td>...</td>\n",
       "      <td>...</td>\n",
       "      <td>...</td>\n",
       "      <td>...</td>\n",
       "      <td>...</td>\n",
       "      <td>...</td>\n",
       "      <td>...</td>\n",
       "      <td>...</td>\n",
       "      <td>...</td>\n",
       "      <td>...</td>\n",
       "    </tr>\n",
       "    <tr>\n",
       "      <th>5947</th>\n",
       "      <td>614689</td>\n",
       "      <td>400</td>\n",
       "      <td>5729</td>\n",
       "      <td>199.618296</td>\n",
       "      <td>67.812469</td>\n",
       "      <td>9.366192</td>\n",
       "      <td>0.359534</td>\n",
       "      <td>4.094488</td>\n",
       "      <td>669</td>\n",
       "      <td>39.193741</td>\n",
       "      <td>2565.612519</td>\n",
       "      <td>3302480</td>\n",
       "      <td>550744</td>\n",
       "      <td>20006</td>\n",
       "      <td>936.636126</td>\n",
       "      <td>206.101772</td>\n",
       "      <td>41.317189</td>\n",
       "      <td>0.595962</td>\n",
       "      <td>42.813704</td>\n",
       "      <td>3691</td>\n",
       "      <td>69.150872</td>\n",
       "      <td>3456.096107</td>\n",
       "    </tr>\n",
       "    <tr>\n",
       "      <th>5948</th>\n",
       "      <td>3764</td>\n",
       "      <td>703</td>\n",
       "      <td>222</td>\n",
       "      <td>5.270621</td>\n",
       "      <td>1.601159</td>\n",
       "      <td>2.338333</td>\n",
       "      <td>0.100503</td>\n",
       "      <td>1.596539</td>\n",
       "      <td>18</td>\n",
       "      <td>139.444444</td>\n",
       "      <td>4573.888889</td>\n",
       "      <td>28613</td>\n",
       "      <td>3557</td>\n",
       "      <td>9</td>\n",
       "      <td>0.751434</td>\n",
       "      <td>0.295998</td>\n",
       "      <td>0.100503</td>\n",
       "      <td>0.100503</td>\n",
       "      <td>0.100503</td>\n",
       "      <td>3</td>\n",
       "      <td>2.666667</td>\n",
       "      <td>218.333333</td>\n",
       "    </tr>\n",
       "    <tr>\n",
       "      <th>5949</th>\n",
       "      <td>1611042</td>\n",
       "      <td>936</td>\n",
       "      <td>10346</td>\n",
       "      <td>388.093282</td>\n",
       "      <td>65.719046</td>\n",
       "      <td>2.086961</td>\n",
       "      <td>0.349327</td>\n",
       "      <td>1.096322</td>\n",
       "      <td>1637</td>\n",
       "      <td>35.500603</td>\n",
       "      <td>3538.089264</td>\n",
       "      <td>871652</td>\n",
       "      <td>140</td>\n",
       "      <td>13838</td>\n",
       "      <td>133.213345</td>\n",
       "      <td>56.027747</td>\n",
       "      <td>2.622550</td>\n",
       "      <td>1.121160</td>\n",
       "      <td>2.622550</td>\n",
       "      <td>562</td>\n",
       "      <td>135.158451</td>\n",
       "      <td>5187.500000</td>\n",
       "    </tr>\n",
       "    <tr>\n",
       "      <th>5950</th>\n",
       "      <td>631958</td>\n",
       "      <td>674</td>\n",
       "      <td>7522</td>\n",
       "      <td>614.968745</td>\n",
       "      <td>329.330091</td>\n",
       "      <td>4.052279</td>\n",
       "      <td>1.340566</td>\n",
       "      <td>12.305035</td>\n",
       "      <td>2536</td>\n",
       "      <td>35.838659</td>\n",
       "      <td>2231.568979</td>\n",
       "      <td>580544</td>\n",
       "      <td>2799</td>\n",
       "      <td>7371</td>\n",
       "      <td>296.978205</td>\n",
       "      <td>135.831429</td>\n",
       "      <td>15.033026</td>\n",
       "      <td>4.807180</td>\n",
       "      <td>8.262063</td>\n",
       "      <td>1201</td>\n",
       "      <td>87.183775</td>\n",
       "      <td>3547.782285</td>\n",
       "    </tr>\n",
       "    <tr>\n",
       "      <th>5951</th>\n",
       "      <td>2307845</td>\n",
       "      <td>329</td>\n",
       "      <td>12580</td>\n",
       "      <td>530.084862</td>\n",
       "      <td>189.947739</td>\n",
       "      <td>4.827720</td>\n",
       "      <td>0.100503</td>\n",
       "      <td>3.130447</td>\n",
       "      <td>2164</td>\n",
       "      <td>80.914768</td>\n",
       "      <td>9278.512306</td>\n",
       "      <td>2208080</td>\n",
       "      <td>240</td>\n",
       "      <td>39725</td>\n",
       "      <td>1404.436304</td>\n",
       "      <td>431.103945</td>\n",
       "      <td>2.596749</td>\n",
       "      <td>0.100503</td>\n",
       "      <td>5.559490</td>\n",
       "      <td>5748</td>\n",
       "      <td>75.878553</td>\n",
       "      <td>2812.668562</td>\n",
       "    </tr>\n",
       "  </tbody>\n",
       "</table>\n",
       "<p>5952 rows × 22 columns</p>\n",
       "</div>"
      ],
      "text/plain": [
       "      A_follower_count  A_following_count  A_listed_count  \\\n",
       "0               614689                400            5729   \n",
       "1               739581              10723            1279   \n",
       "2                 3638               3341              85   \n",
       "3                  613               1259              31   \n",
       "4              1352348                331           15647   \n",
       "...                ...                ...             ...   \n",
       "5947            614689                400            5729   \n",
       "5948              3764                703             222   \n",
       "5949           1611042                936           10346   \n",
       "5950            631958                674            7522   \n",
       "5951           2307845                329           12580   \n",
       "\n",
       "      A_mentions_received  A_retweets_received  A_mentions_sent  \\\n",
       "0              199.618296            67.812469         9.366192   \n",
       "1              102.026750            96.771319         1.537322   \n",
       "2                2.793577             1.402703         2.594089   \n",
       "3                1.326041             0.356943         6.249678   \n",
       "4            19129.848662         14552.733991         2.065418   \n",
       "...                   ...                  ...              ...   \n",
       "5947           199.618296            67.812469         9.366192   \n",
       "5948             5.270621             1.601159         2.338333   \n",
       "5949           388.093282            65.719046         2.086961   \n",
       "5950           614.968745           329.330091         4.052279   \n",
       "5951           530.084862           189.947739         4.827720   \n",
       "\n",
       "      A_retweets_sent    A_posts  A_network_feature_1  A_network_feature_2  \\\n",
       "0            0.359534   4.094488                  669            39.193741   \n",
       "1            1.054358   3.467754                  432            11.191686   \n",
       "2            0.598150   3.802143                   11             9.416667   \n",
       "3            2.323064   7.488116                    4             5.000000   \n",
       "4            0.580955  16.281502                52580             3.092448   \n",
       "...               ...        ...                  ...                  ...   \n",
       "5947         0.359534   4.094488                  669            39.193741   \n",
       "5948         0.100503   1.596539                   18           139.444444   \n",
       "5949         0.349327   1.096322                 1637            35.500603   \n",
       "5950         1.340566  12.305035                 2536            35.838659   \n",
       "5951         0.100503   3.130447                 2164            80.914768   \n",
       "\n",
       "      A_network_feature_3  B_follower_count  B_following_count  \\\n",
       "0             2565.612519           1404323                563   \n",
       "1              966.193995            756715              12949   \n",
       "2              489.083333            488750                320   \n",
       "3              275.000000             13456               3599   \n",
       "4              597.563636           1481379             147521   \n",
       "...                   ...               ...                ...   \n",
       "5947          2565.612519           3302480             550744   \n",
       "5948          4573.888889             28613               3557   \n",
       "5949          3538.089264            871652                140   \n",
       "5950          2231.568979            580544               2799   \n",
       "5951          9278.512306           2208080                240   \n",
       "\n",
       "      B_listed_count  B_mentions_received  B_retweets_received  \\\n",
       "0              20057           967.720642           579.431128   \n",
       "1               1311            38.260522            10.697567   \n",
       "2               3673          1207.190077           599.721600   \n",
       "3               1072            10.300222             3.828561   \n",
       "4              15043          9902.070379          5012.055876   \n",
       "...              ...                  ...                  ...   \n",
       "5947           20006           936.636126           206.101772   \n",
       "5948               9             0.751434             0.295998   \n",
       "5949           13838           133.213345            56.027747   \n",
       "5950            7371           296.978205           135.831429   \n",
       "5951           39725          1404.436304           431.103945   \n",
       "\n",
       "      B_mentions_sent  B_retweets_sent     B_posts  B_network_feature_1  \\\n",
       "0            4.473798         0.805680    6.241806                 4027   \n",
       "1           12.845793         1.584284   12.106662                  144   \n",
       "2            0.842022         0.593199    7.044735                 3918   \n",
       "3            1.624092         0.100503    1.614287                   43   \n",
       "4           10.438460         0.100503  193.072418                28564   \n",
       "...               ...              ...         ...                  ...   \n",
       "5947        41.317189         0.595962   42.813704                 3691   \n",
       "5948         0.100503         0.100503    0.100503                    3   \n",
       "5949         2.622550         1.121160    2.622550                  562   \n",
       "5950        15.033026         4.807180    8.262063                 1201   \n",
       "5951         2.596749         0.100503    5.559490                 5748   \n",
       "\n",
       "      B_network_feature_2  B_network_feature_3  \n",
       "0               57.643839          3201.293706  \n",
       "1              209.717241         21496.565517  \n",
       "2                7.859818           637.983300  \n",
       "3              113.840909          2537.772727  \n",
       "4               10.964144          1035.955493  \n",
       "...                   ...                  ...  \n",
       "5947            69.150872          3456.096107  \n",
       "5948             2.666667           218.333333  \n",
       "5949           135.158451          5187.500000  \n",
       "5950            87.183775          3547.782285  \n",
       "5951            75.878553          2812.668562  \n",
       "\n",
       "[5952 rows x 22 columns]"
      ]
     },
     "execution_count": 33,
     "metadata": {},
     "output_type": "execute_result"
    }
   ],
   "source": [
    "test"
   ]
  },
  {
   "cell_type": "code",
   "execution_count": 34,
   "id": "fae8bd6e",
   "metadata": {},
   "outputs": [],
   "source": [
    "# taking ratios\n",
    "for att in attributes:\n",
    "    att_a = 'A_' + att\n",
    "    att_b = 'B_' + att\n",
    "    \n",
    "    dat_a = test[att_a]\n",
    "    dat_b = test[att_b]\n",
    "    \n",
    "    if att_a in zero_min_cols:\n",
    "        dat_a += 1\n",
    "    \n",
    "    if att_b in zero_min_cols:\n",
    "        dat_b += 1\n",
    "    \n",
    "    test['A/B_' + att] = dat_a/dat_b\n",
    "    \n",
    "\n",
    "# box cox transformation\n",
    "for att in attributes:\n",
    "    col = 'A/B_' + att\n",
    "    dat_ab = test[col]\n",
    "\n",
    "    # box cox transfomation\n",
    "    dat_upd = boxcox(dat_ab, lmbda=lambda_dict[col])\n",
    "\n",
    "    # updating the column\n",
    "    test[col + '_bc'] = dat_upd\n",
    "    \n",
    "# scaling\n",
    "test_scaled = pd.DataFrame(\n",
    "    scaler.transform(test[bc_ratio_attributes]), \n",
    "    columns=bc_ratio_attributes)"
   ]
  },
  {
   "cell_type": "code",
   "execution_count": 35,
   "id": "fd5b0591",
   "metadata": {},
   "outputs": [],
   "source": [
    "# creating submission file\n",
    "test_sub = pd.DataFrame(best_lr.predict_proba(test_scaled)[:, 1])\n",
    "test_sub.reset_index(inplace=True)\n",
    "test_sub.columns = ['Id', 'Choice']\n",
    "test_sub['Id'] += 1\n",
    "\n",
    "test_sub.to_csv('submission1.csv', index=False)"
   ]
  },
  {
   "cell_type": "markdown",
   "id": "fb64bb2a",
   "metadata": {},
   "source": [
    "## Financial Lift"
   ]
  },
  {
   "cell_type": "markdown",
   "id": "a53290ef",
   "metadata": {},
   "source": [
    "Financial list is defined at the increase in profit for the seller if one of the influencer is paid money for two tweets rather than equally paying both the influencers.\n",
    "\n",
    "**Baseline profit**\n",
    "\n",
    "Profit expectations when both influencer A and B are paid $5 for one tweet.\n",
    "\n",
    "**Analytical model profit**\n",
    "\n",
    "Profit expecation when only one of the influencer is being paid $10 for two tweets based on model prediction.\n",
    "\n",
    "**Perfect Analytical model profit**\n",
    "\n",
    "Profit expecation when only one of the influencer is being paid $10 for two tweets based on ideal model that gives 100% accuracy."
   ]
  },
  {
   "cell_type": "code",
   "execution_count": 36,
   "id": "bfee13d4",
   "metadata": {},
   "outputs": [],
   "source": [
    "# probability for buying a product when one tweet or two tweets\n",
    "prob_one_tweet = 0.01/100\n",
    "prob_two_tweet = 0.015/100\n",
    "margin = 10"
   ]
  },
  {
   "cell_type": "markdown",
   "id": "c3ee7392",
   "metadata": {},
   "source": [
    "### Baseline profit"
   ]
  },
  {
   "cell_type": "code",
   "execution_count": 37,
   "id": "b8339f66",
   "metadata": {},
   "outputs": [
    {
     "name": "stdout",
     "output_type": "stream",
     "text": [
      "Total units sold  537657 Total profit sold  5376570 Total spend 55000\n"
     ]
    }
   ],
   "source": [
    "# based on the actual influence getting the number of people that could have bought the product\n",
    "train['follower_bought_baseline'] = np.where(\n",
    "    train['Choice'] == 0, \n",
    "    train['B_follower_count'], \n",
    "    train['A_follower_count'])\n",
    "units_baseline = round((train['follower_bought_baseline']*prob_one_tweet).sum())\n",
    "profit_baseline = units_baseline*margin\n",
    "spend_baseline = len(train) * 5 * 2\n",
    "\n",
    "print('Total units sold ', units_baseline, 'Total profit sold ', profit_baseline, 'Total spend', spend_baseline)"
   ]
  },
  {
   "cell_type": "markdown",
   "id": "b1ba2c77",
   "metadata": {},
   "source": [
    "### Analytical model profit"
   ]
  },
  {
   "cell_type": "code",
   "execution_count": 38,
   "id": "fd13111f",
   "metadata": {},
   "outputs": [
    {
     "name": "stdout",
     "output_type": "stream",
     "text": [
      "Total units sold  747263 Total profit sold  7472630 Print total spend 55000\n"
     ]
    }
   ],
   "source": [
    "# people who can probably buy the product will be depended on whether prediction is correct or not \n",
    "train['correct_influencer'] = np.where(\n",
    "    train['Choice'] == train['Choice_pred'],\n",
    "    1, 0\n",
    ")\n",
    "\n",
    "train['follower_bought_analytical'] = np.select(\n",
    "    [(train['correct_influencer'] == 1) & (train['Choice'] == 0), \n",
    "     (train['correct_influencer'] == 1) & (train['Choice'] == 1)], \n",
    "    [train['B_follower_count'], \n",
    "     train['A_follower_count']],\n",
    "    default=0)\n",
    "units_analytical = round((train['follower_bought_analytical']*prob_two_tweet).sum())\n",
    "profit_analytical = units_analytical*margin\n",
    "spend_analytical = len(train) * 10 \n",
    "\n",
    "print('Total units sold ', units_analytical, 'Total profit sold ', profit_analytical, 'Print total spend', spend_analytical)"
   ]
  },
  {
   "cell_type": "markdown",
   "id": "754cb1c1",
   "metadata": {},
   "source": [
    "### Perfect model profit"
   ]
  },
  {
   "cell_type": "code",
   "execution_count": 39,
   "id": "49c18dfc",
   "metadata": {},
   "outputs": [
    {
     "name": "stdout",
     "output_type": "stream",
     "text": [
      "Total units sold  806485 Total profit sold  8064850 Total spend 55000\n"
     ]
    }
   ],
   "source": [
    "# perfect \n",
    "units_perfect = round((train['follower_bought_baseline']*prob_two_tweet).sum())\n",
    "profit_perfect = units_perfect*margin\n",
    "spend_perfect = len(train) * 10\n",
    "\n",
    "print('Total units sold ', units_perfect, 'Total profit sold ', profit_perfect, 'Total spend', spend_perfect)"
   ]
  },
  {
   "cell_type": "code",
   "execution_count": 40,
   "id": "ebab92ae",
   "metadata": {},
   "outputs": [
    {
     "name": "stdout",
     "output_type": "stream",
     "text": [
      "Financial lift with current model  2096060\n",
      "Financial lift with perfect model  2688280\n"
     ]
    }
   ],
   "source": [
    "print('Financial lift with current model ', profit_analytical - profit_baseline)\n",
    "print('Financial lift with perfect model ', profit_perfect - profit_baseline)"
   ]
  },
  {
   "cell_type": "code",
   "execution_count": null,
   "id": "2f8cc6ad",
   "metadata": {},
   "outputs": [],
   "source": []
  }
 ],
 "metadata": {
  "kernelspec": {
   "display_name": "Python 3",
   "language": "python",
   "name": "python3"
  },
  "language_info": {
   "codemirror_mode": {
    "name": "ipython",
    "version": 3
   },
   "file_extension": ".py",
   "mimetype": "text/x-python",
   "name": "python",
   "nbconvert_exporter": "python",
   "pygments_lexer": "ipython3",
   "version": "3.8.8"
  }
 },
 "nbformat": 4,
 "nbformat_minor": 5
}
